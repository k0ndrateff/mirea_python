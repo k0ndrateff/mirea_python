{
 "cells": [
  {
   "cell_type": "markdown",
   "id": "6a060e0c",
   "metadata": {
    "id": "6a060e0c"
   },
   "source": [
    "## Машины экстремального обучения\n",
    "\n",
    "Горчаков А.В., кафедра корпоративных информационных систем, РТУ МИРЭА\n",
    "\n",
    "*Интеллектуальные алгоритмы* позволяют автоматизировать выявление скрытых нетривиальных закономерностей в данных, причём накопленные сведения автоматически обобщаются до информации, которая может быть охарактеризована как *знания*. Алгоритмы *машинного обучения* способны выполнять предсказания исходя из опыта, накопленного в результате анализа больших данных.\n",
    "\n",
    "*Машина экстремального обучения* (англ. Extreme Learning Machine, ELM) — архитектура искусственной нейронной сети, алгоритма машинного обучения с учителем, описанная Guang-Bin Huang в 2006 г. в работе [Extreme learning machine: Theory and applications](https://www.sciencedirect.com/science/article/abs/pii/S0925231206000385). По скорости обучения ELM значительно превосходит классические искусственные нейронные сети.\n",
    "\n",
    "Задача машинного обучения состоит в построении отображения $f: X \\rightarrow Y$, позволяющего по объекту из множества $X$ определить его характеристику $Y$. Например, в задаче распознавания рукописных цифр $X$ обозначает множество рукописных цифр, а $Y$ — метку класса, цифру из множества $\\{0, 1, 2, 3, \\cdots, 9\\}$. Задача распознавания рукописных цифр здесь — это задача классификации объектов на 10 классов.\n",
    "\n",
    "### 1. Подготовка данных\n",
    "\n",
    "Целью данного этапа является формирование обучающей и тестовой выборки.\n",
    "\n",
    "**Задача 1.1.** Загрузите набор данных с рукописными цифрами, используя функцию `load_digits()` из модуля `sklearn.datasets`. Рукописные цифры в наборе представлены в виде векторов, принадлежащих пространству $\\mathbb{R}^{64}$. Преобразуйте векторы к матрицам, принадлежащим пространству $\\mathbb{R}^{8\\times8}$, воспользуйтесь средствами `numpy`. Визуализируйте несколько рукописных цифр из загруженного набора данных $X$ средствами библиотеки `matplotlib`. Вместе с визуализацией цифры выведите на экран метку её класса."
   ]
  },
  {
   "cell_type": "code",
   "execution_count": 1,
   "id": "9bfc880a",
   "metadata": {
    "id": "9bfc880a",
    "ExecuteTime": {
     "end_time": "2024-03-20T15:36:37.599749Z",
     "start_time": "2024-03-20T15:36:33.661051Z"
    }
   },
   "outputs": [
    {
     "name": "stdout",
     "output_type": "stream",
     "text": [
      "1\n"
     ]
    },
    {
     "data": {
      "text/plain": "<Figure size 640x480 with 1 Axes>",
      "image/png": "[encoded data removed]"
     },
     "metadata": {},
     "output_type": "display_data"
    }
   ],
   "source": [
    "import math\n",
    "\n",
    "from sklearn.datasets import load_digits\n",
    "from sklearn.preprocessing import MinMaxScaler, OneHotEncoder\n",
    "from sklearn.model_selection import train_test_split\n",
    "import numpy as np\n",
    "import matplotlib.pyplot as plt\n",
    "import random\n",
    "\n",
    "digits = load_digits()\n",
    "\n",
    "mtx_digits = np.reshape(digits.data, (digits.data.shape[0], 8, 8))\n",
    "\n",
    "plt.imshow(mtx_digits[1], cmap='gray')\n",
    "print(digits.target[1])"
   ]
  },
  {
   "cell_type": "markdown",
   "id": "6e4a2ded",
   "metadata": {
    "id": "6e4a2ded"
   },
   "source": [
    "**Задача 1.2.** Примените минимаксное масштабирование к рукописным цифрам из множества $X$, представленным векторами, принадлежащими пространству $\\mathbb{R}^{64}$, воспользовавшись классом `MinMaxScaler` из библиотеки `sklearn`. Убедитесь, что компоненты каждого вектора $\\vec{x}_i\\in X$, кодирующего каждую $i$-ю цифру, принадлежат вещественному промежутку $[0, 1]$."
   ]
  },
  {
   "cell_type": "code",
   "execution_count": 2,
   "id": "7d263f14",
   "metadata": {
    "id": "7d263f14",
    "ExecuteTime": {
     "end_time": "2024-03-20T15:36:37.620732Z",
     "start_time": "2024-03-20T15:36:37.611371Z"
    }
   },
   "outputs": [
    {
     "name": "stdout",
     "output_type": "stream",
     "text": [
      "[[0.     0.     0.3125 ... 0.     0.     0.    ]\n",
      " [0.     0.     0.     ... 0.625  0.     0.    ]\n",
      " [0.     0.     0.     ... 1.     0.5625 0.    ]\n",
      " ...\n",
      " [0.     0.     0.0625 ... 0.375  0.     0.    ]\n",
      " [0.     0.     0.125  ... 0.75   0.     0.    ]\n",
      " [0.     0.     0.625  ... 0.75   0.0625 0.    ]]\n"
     ]
    }
   ],
   "source": [
    "scaler = MinMaxScaler(feature_range=(0, 1))\n",
    "scaled_digits = scaler.fit_transform(digits.data)\n",
    "print(scaled_digits)"
   ]
  },
  {
   "cell_type": "markdown",
   "id": "eb78d688",
   "metadata": {
    "id": "eb78d688"
   },
   "source": [
    "**Задача 1.3.** Преобразуйте метки классов рукописных цифр в векторы, принадлежащие пространству $\\mathbb {R}^{10}$, используя унитарный код (англ. one-hot encoding). Воспользуйтесь классом `OneHotEncoder` из библиотеки `sklearn`."
   ]
  },
  {
   "cell_type": "code",
   "execution_count": 3,
   "id": "d0c641e9",
   "metadata": {
    "id": "d0c641e9",
    "ExecuteTime": {
     "end_time": "2024-03-20T15:36:37.631665Z",
     "start_time": "2024-03-20T15:36:37.623050Z"
    }
   },
   "outputs": [
    {
     "name": "stdout",
     "output_type": "stream",
     "text": [
      "  (0, 3)\t1.0\n"
     ]
    }
   ],
   "source": [
    "encoder = OneHotEncoder()\n",
    "targets = encoder.fit_transform(digits.target.reshape(-1, 1))\n",
    "print(targets[3])"
   ]
  },
  {
   "cell_type": "markdown",
   "id": "618ac8b4",
   "metadata": {
    "id": "618ac8b4"
   },
   "source": [
    "**Задача 1.4.** Разбейте набор данных, состоящий из множества масштабированных векторов $x_i \\in X$ и множества меток классов $y_i \\in Y$, на обучающую и тестовую выборки. Воспользуйтесь функцией `train_test_split` из библиотеки `sklearn`. Пусть обучающий набор содержит 70% от общего числа пар объект-ответ, а тестовый набор — 30% от общего числа. Убедитесь, что разделение произведено корректно, визуализировав несколько рукописных цифр из новых выборок вместе с их метками классов."
   ]
  },
  {
   "cell_type": "code",
   "execution_count": 4,
   "id": "8802725b",
   "metadata": {
    "id": "8802725b",
    "ExecuteTime": {
     "end_time": "2024-03-20T15:36:37.741627Z",
     "start_time": "2024-03-20T15:36:37.635694Z"
    }
   },
   "outputs": [
    {
     "name": "stdout",
     "output_type": "stream",
     "text": [
      "7\n"
     ]
    },
    {
     "data": {
      "text/plain": "<Figure size 640x480 with 1 Axes>",
      "image/png": "[encoded data removed]"
     },
     "metadata": {},
     "output_type": "display_data"
    }
   ],
   "source": [
    "scaled_mtx_digits = np.reshape(scaled_digits, (scaled_digits.shape[0], 8, 8))\n",
    "X_train, X_test, y_train, y_test = train_test_split(scaled_mtx_digits, digits.target, test_size=0.3)\n",
    "\n",
    "plt.imshow(X_train[0], cmap='gray')\n",
    "print(y_train[0])"
   ]
  },
  {
   "cell_type": "markdown",
   "id": "bc613bba",
   "metadata": {
    "id": "bc613bba"
   },
   "source": [
    "### 2. Обучение Машины экстремального обучения\n",
    "\n",
    "Последовательность действий для обучения классификатора на основе Машины экстремального обучения имеет вид:\n",
    "\n",
    "<div style=\"margin-top:10px; display: block;width:100%\">\n",
    "<img src=\"https://user-images.githubusercontent.com/6759207/205480896-79304871-0905-4444-9a05-bf2592e5ef60.png\" width=\"600px\" align=\"left\" />\n",
    "</div>"
   ]
  },
  {
   "cell_type": "markdown",
   "id": "e17e00bf",
   "metadata": {
    "id": "e17e00bf"
   },
   "source": [
    "Результатом обучения являются веса нейронной сети $\\mathbf{\\alpha}$, $\\beta$, вектор сдвигов $\\vec {b}$.\n",
    "\n",
    "Целью данного этапа является обучение алгоритма на размеченной обучающей выборке, подготовленной ранее.\n",
    "\n",
    "**Задача 2.1.** Реализуйте функцию `make_alpha(d, m)`, инициализирующую матрицу $\\mathbf{\\alpha} \\in \\mathbb{R}^{d \\times m}$ случайными числами из $[-1,1]$."
   ]
  },
  {
   "cell_type": "code",
   "execution_count": 5,
   "id": "d0c8be76",
   "metadata": {
    "id": "d0c8be76",
    "ExecuteTime": {
     "end_time": "2024-03-20T15:36:37.759847Z",
     "start_time": "2024-03-20T15:36:37.753730Z"
    }
   },
   "outputs": [
    {
     "name": "stdout",
     "output_type": "stream",
     "text": [
      "[[-0.54735586  0.2346842  -0.93817675  0.1509779  -0.55989066]\n",
      " [ 0.20459822  0.68943123  0.56953633 -0.73408621  0.74402509]\n",
      " [-0.035513    0.6836573  -0.51582482  0.09332563  0.05067402]\n",
      " [-0.64562753 -0.90802359 -0.73072686  0.24857567  0.13834812]\n",
      " [-0.78271138  0.2962341   0.54407211  0.30666105  0.09765349]]\n"
     ]
    }
   ],
   "source": [
    "Matrix = np.ndarray\n",
    "\n",
    "def make_alpha(d: int, m: int) -> Matrix:\n",
    "    return np.array([[(random.random() * 2 - 1) for i in range(m)] for j in range(d)])\n",
    "\n",
    "print(make_alpha(5, 5))"
   ]
  },
  {
   "cell_type": "markdown",
   "id": "8732844f",
   "metadata": {
    "id": "8732844f"
   },
   "source": [
    "**Задача 2.2.** Реализуйте функцию `make_b_vec(d)`, инициализирующую вектор $\\vec{b}\\in\\mathbb{R}^{d}$ случайными числами из $[-1,1]$."
   ]
  },
  {
   "cell_type": "code",
   "execution_count": 6,
   "id": "ed7c9b8e",
   "metadata": {
    "id": "ed7c9b8e",
    "ExecuteTime": {
     "end_time": "2024-03-20T15:36:37.767223Z",
     "start_time": "2024-03-20T15:36:37.761781Z"
    }
   },
   "outputs": [
    {
     "name": "stdout",
     "output_type": "stream",
     "text": [
      "[-0.20489587 -0.73011361 -0.91154764  0.11968643 -0.0903113 ]\n"
     ]
    }
   ],
   "source": [
    "Vector = np.ndarray\n",
    "\n",
    "def make_b_vec(d: int) -> Vector:\n",
    "    return np.array([(random.random() * 2 - 1) for i in range(d)])\n",
    "\n",
    "print(make_b_vec(5))"
   ]
  },
  {
   "cell_type": "markdown",
   "id": "f0bbeb2e",
   "metadata": {
    "id": "f0bbeb2e"
   },
   "source": [
    "**Задача 2.3.** Реализуйте функцию `compute_b(n, b_vec)`, вычисляющую $\\mathbf{b}\\in\\mathbb{R}^{n \\times d}$ клонированием вектора $\\vec{b}$ $n$ раз."
   ]
  },
  {
   "cell_type": "code",
   "execution_count": 7,
   "id": "868030a8",
   "metadata": {
    "id": "868030a8",
    "ExecuteTime": {
     "end_time": "2024-03-20T15:36:37.774312Z",
     "start_time": "2024-03-20T15:36:37.769455Z"
    }
   },
   "outputs": [
    {
     "name": "stdout",
     "output_type": "stream",
     "text": [
      "[[ 0.5941146  -0.97229722 -0.84237168 -0.35709118  0.91495213]\n",
      " [ 0.5941146  -0.97229722 -0.84237168 -0.35709118  0.91495213]\n",
      " [ 0.5941146  -0.97229722 -0.84237168 -0.35709118  0.91495213]\n",
      " [ 0.5941146  -0.97229722 -0.84237168 -0.35709118  0.91495213]\n",
      " [ 0.5941146  -0.97229722 -0.84237168 -0.35709118  0.91495213]]\n"
     ]
    }
   ],
   "source": [
    "def compute_b(n: int, b_vec: Vector) -> Matrix:\n",
    "    return np.array([b_vec for i in range(n)])\n",
    "\n",
    "print(compute_b(5, make_b_vec(5)))"
   ]
  },
  {
   "cell_type": "markdown",
   "id": "d474f7b7",
   "metadata": {
    "id": "d474f7b7"
   },
   "source": [
    "**Задача 2.4.** Реализуйте функцию `compute_h(v, alpha, b)`, вычисляющую выходную матрицу скрытого слоя по формуле $\\mathbf{H}=\\sigma(\\mathbf{V}_L\\mathbf{\\alpha}^T + \\mathbf{b})$. $\\mathbf {V}_L$ обозначает матрицу, каждая $i$-я строка которой кодирует $i$-й объект из *обучающей выборки*. $\\alpha^T$ обозначает транспонирование матрицы весов $\\alpha$. Сигмоидальная функция активации $\\sigma$ определяется как $\\sigma(x)=(1 + e^{-x})^{-1}$ и применяется к каждому элементу матрицы. Убедитесь, что матрица $\\mathbf {H}$ принадлежит пространству $\\mathbb {R}^{n\\times d}$."
   ]
  },
  {
   "cell_type": "code",
   "execution_count": 8,
   "id": "76482acc",
   "metadata": {
    "id": "76482acc",
    "ExecuteTime": {
     "end_time": "2024-03-20T15:36:37.779487Z",
     "start_time": "2024-03-20T15:36:37.775163Z"
    }
   },
   "outputs": [
    {
     "name": "stdout",
     "output_type": "stream",
     "text": [
      "[[0.46532287 0.58895465 0.81034906 0.57176479 0.43986094]\n",
      " [0.60319666 0.4720136  0.47998981 0.47318941 0.27997977]\n",
      " [0.20729915 0.74117732 0.83118825 0.90051183 0.5479427 ]\n",
      " [0.56139288 0.56582562 0.80004425 0.56254725 0.47796068]\n",
      " [0.795853   0.21927882 0.34232746 0.2594513  0.20093166]]\n"
     ]
    }
   ],
   "source": [
    "def sigmoid(x: float) -> float:\n",
    "    return (1 + math.e ** -x) ** -1\n",
    "\n",
    "\n",
    "def compute_h(v: Matrix, alpha: Matrix, b: Matrix) -> Matrix:\n",
    "    alpha_transposed = np.transpose(alpha)\n",
    "    v_a_transposed = np.dot(v, alpha_transposed)\n",
    "    inner_sum = v_a_transposed + b\n",
    "    return np.array([[sigmoid(inner_sum[i][j]) for j in range(v.shape[1])] for i in range(v.shape[0])])\n",
    "\n",
    "H = compute_h(make_alpha(5, 5), make_alpha(5, 5), make_b_vec(5))\n",
    "print(H)"
   ]
  },
  {
   "cell_type": "markdown",
   "id": "42e64f9d",
   "metadata": {
    "id": "42e64f9d"
   },
   "source": [
    "**Задача 2.5.** Реализуйте функцию `make_i(d)`, осуществляющую построение диагональной матрицы $\\mathbf {I} \\in \\mathbb {R}^{d\\times d}$. Элементы на главной диагонали матрицы $\\mathbf {I}$ должны быть равны 1, а элементы, не принадлежащие главной диагонали, должны быть равны 0. Убедитесь, что матрица $\\mathbf {I}$ принадлежит пространству $\\mathbb {R}^{d\\times d}$."
   ]
  },
  {
   "cell_type": "code",
   "execution_count": 9,
   "id": "dc4a48a2",
   "metadata": {
    "id": "dc4a48a2",
    "ExecuteTime": {
     "end_time": "2024-03-20T15:36:37.785504Z",
     "start_time": "2024-03-20T15:36:37.780624Z"
    }
   },
   "outputs": [
    {
     "name": "stdout",
     "output_type": "stream",
     "text": [
      "[[1 0 0 0 0]\n",
      " [0 1 0 0 0]\n",
      " [0 0 1 0 0]\n",
      " [0 0 0 1 0]\n",
      " [0 0 0 0 1]]\n"
     ]
    }
   ],
   "source": [
    "def make_i(d: int) -> Matrix:\n",
    "    return np.array([[1 if i == j else 0 for j in range(d)] for i in range(d)])\n",
    "\n",
    "I = make_i(5)\n",
    "print(I)"
   ]
  },
  {
   "cell_type": "markdown",
   "id": "1ef62413",
   "metadata": {
    "id": "1ef62413"
   },
   "source": [
    "**Задача 2.6.** Реализуйте функцию `compute_hp(h, i, gamma=1e-6)`, вычисляющую псевдообратную матрицу с регуляризацией для матрицы $\\mathbf{H}$ по формуле $\\mathbf{H}^{†}=(\\mathbf{H}^T\\mathbf{H} + \\gamma\\mathbf{I})^{-1}\\mathbf{H}^T$. Операция $(\\cdots)^T$ обозначает транспорирование матрицы, операция $(\\cdots)^{-1}$ обозначает операцию нахождения обратной матрицы для значения в скобках. Убедитесь, что матрица $\\mathbf {H}$ принадлежит пространству $\\mathbb {R}^{d\\times n}$."
   ]
  },
  {
   "cell_type": "code",
   "execution_count": 10,
   "id": "d0fb9d98",
   "metadata": {
    "id": "d0fb9d98",
    "ExecuteTime": {
     "end_time": "2024-03-20T15:36:37.794217Z",
     "start_time": "2024-03-20T15:36:37.786213Z"
    }
   },
   "outputs": [
    {
     "name": "stdout",
     "output_type": "stream",
     "text": [
      "[[ -0.60264785   0.67335548  -0.35214115   0.09023775   1.1265869 ]\n",
      " [ -6.10173987  11.68990639  -4.40379393   7.90105671  -9.71879284]\n",
      " [ 14.30907018  -6.46026309   0.18540879 -11.53777408   4.62053857]\n",
      " [  5.98984324  -5.25336368   4.9668491  -11.06801629   6.99310589]\n",
      " [-23.06833871   2.36632708  -0.52901469  24.97023274  -5.78196347]]\n"
     ]
    }
   ],
   "source": [
    "def compute_hp(h: Matrix, i: Matrix, gamma: float = 1e-6) -> Matrix:\n",
    "    h_transposed = np.transpose(h)\n",
    "    h_transposed_h = np.dot(h_transposed, h)\n",
    "    gamma_i = gamma * i\n",
    "    inner_mtx = h_transposed_h + gamma_i\n",
    "    inverted_inner_mtx = np.linalg.inv(inner_mtx)\n",
    "    return np.dot(inverted_inner_mtx, h_transposed)\n",
    "\n",
    "print(compute_hp(H, I))"
   ]
  },
  {
   "cell_type": "markdown",
   "id": "9adc5ce9",
   "metadata": {
    "id": "9adc5ce9"
   },
   "source": [
    "**Задача 2.7.** Реализуйте функцию `compute_beta(hp, y)`, вычисляющую веса $\\mathbf {\\beta} \\in \\mathbb{R}^{d\\times m}$ по формуле $\\mathbf {\\beta} = \\mathbf {H}^{†} \\mathbf {Y}_L$, где $\\mathbf {Y}_L$ обозначает матрицу, каждая $i$-я строка которой кодирует $i$-й *ответ* из обучающей выборки. Каждый ответ представлен $m$-мерным вектором, используется унитарный код (англ. one-hot encoding). Убедитесь, что матрица $\\mathbf {Y}_L$ принадлежит пространству $\\mathbb {R}^{d\\times o}$, где $d$ - число нейронов на скрытом слое, $o$ - число меток классов."
   ]
  },
  {
   "cell_type": "code",
   "execution_count": 11,
   "id": "ddb53bb0",
   "metadata": {
    "id": "ddb53bb0",
    "ExecuteTime": {
     "end_time": "2024-03-20T15:36:37.802700Z",
     "start_time": "2024-03-20T15:36:37.796810Z"
    }
   },
   "outputs": [],
   "source": [
    "def compute_beta(hp: Matrix, y: Matrix) -> Matrix:\n",
    "    return np.dot(hp, y)"
   ]
  },
  {
   "cell_type": "markdown",
   "id": "295497e2",
   "metadata": {
    "id": "295497e2"
   },
   "source": [
    "**Задача 2.8.** Объедините реализованные ранее функции в функцию `elm_train(v, y, gamma=1e-6, d=100)`, возвращающую кортеж из случайных весов $\\alpha\\in\\mathbb{R}^{d\\times m}$, вектора сдвигов $\\vec {b}\\in\\mathbb{R}^{d}$, обученных весов $\\beta\\in\\mathbb{R}^{d\\times o}$. Примените функцию к ранее подготовленной обучающей выборке."
   ]
  },
  {
   "cell_type": "code",
   "execution_count": 12,
   "id": "10377b72",
   "metadata": {
    "scrolled": false,
    "id": "10377b72",
    "ExecuteTime": {
     "end_time": "2024-03-20T15:36:38.017411Z",
     "start_time": "2024-03-20T15:36:37.804881Z"
    }
   },
   "outputs": [
    {
     "ename": "ValueError",
     "evalue": "operands could not be broadcast together with shapes (1257,8,64) (1257,64) ",
     "output_type": "error",
     "traceback": [
      "\u001B[0;31m---------------------------------------------------------------------------\u001B[0m",
      "\u001B[0;31mValueError\u001B[0m                                Traceback (most recent call last)",
      "Cell \u001B[0;32mIn[12], line 12\u001B[0m\n\u001B[1;32m      8\u001B[0m     beta \u001B[38;5;241m=\u001B[39m compute_beta(hp, y)\n\u001B[1;32m      9\u001B[0m     \u001B[38;5;28;01mreturn\u001B[39;00m alpha, b_vec, beta\n\u001B[0;32m---> 12\u001B[0m trained_elm \u001B[38;5;241m=\u001B[39m \u001B[43melm_train\u001B[49m\u001B[43m(\u001B[49m\u001B[43mX_train\u001B[49m\u001B[43m,\u001B[49m\u001B[43m \u001B[49m\u001B[43my_train\u001B[49m\u001B[43m,\u001B[49m\u001B[43m \u001B[49m\u001B[43md\u001B[49m\u001B[38;5;241;43m=\u001B[39;49m\u001B[38;5;241;43m64\u001B[39;49m\u001B[43m)\u001B[49m\n",
      "Cell \u001B[0;32mIn[12], line 5\u001B[0m, in \u001B[0;36melm_train\u001B[0;34m(v, y, gamma, d)\u001B[0m\n\u001B[1;32m      3\u001B[0m b_vec \u001B[38;5;241m=\u001B[39m make_b_vec(d)\n\u001B[1;32m      4\u001B[0m b \u001B[38;5;241m=\u001B[39m compute_b(v\u001B[38;5;241m.\u001B[39mshape[\u001B[38;5;241m0\u001B[39m], b_vec)\n\u001B[0;32m----> 5\u001B[0m h \u001B[38;5;241m=\u001B[39m \u001B[43mcompute_h\u001B[49m\u001B[43m(\u001B[49m\u001B[43mv\u001B[49m\u001B[43m,\u001B[49m\u001B[43m \u001B[49m\u001B[43malpha\u001B[49m\u001B[43m,\u001B[49m\u001B[43m \u001B[49m\u001B[43mb\u001B[49m\u001B[43m)\u001B[49m\n\u001B[1;32m      6\u001B[0m i \u001B[38;5;241m=\u001B[39m make_i(d)\n\u001B[1;32m      7\u001B[0m hp \u001B[38;5;241m=\u001B[39m compute_hp(h, i, gamma)\n",
      "Cell \u001B[0;32mIn[8], line 8\u001B[0m, in \u001B[0;36mcompute_h\u001B[0;34m(v, alpha, b)\u001B[0m\n\u001B[1;32m      6\u001B[0m alpha_transposed \u001B[38;5;241m=\u001B[39m np\u001B[38;5;241m.\u001B[39mtranspose(alpha)\n\u001B[1;32m      7\u001B[0m v_a_transposed \u001B[38;5;241m=\u001B[39m np\u001B[38;5;241m.\u001B[39mdot(v, alpha_transposed)\n\u001B[0;32m----> 8\u001B[0m inner_sum \u001B[38;5;241m=\u001B[39m \u001B[43mv_a_transposed\u001B[49m\u001B[43m \u001B[49m\u001B[38;5;241;43m+\u001B[39;49m\u001B[43m \u001B[49m\u001B[43mb\u001B[49m\n\u001B[1;32m      9\u001B[0m \u001B[38;5;28;01mreturn\u001B[39;00m np\u001B[38;5;241m.\u001B[39marray([[sigmoid(inner_sum[i][j]) \u001B[38;5;28;01mfor\u001B[39;00m j \u001B[38;5;129;01min\u001B[39;00m \u001B[38;5;28mrange\u001B[39m(v\u001B[38;5;241m.\u001B[39mshape[\u001B[38;5;241m1\u001B[39m])] \u001B[38;5;28;01mfor\u001B[39;00m i \u001B[38;5;129;01min\u001B[39;00m \u001B[38;5;28mrange\u001B[39m(v\u001B[38;5;241m.\u001B[39mshape[\u001B[38;5;241m0\u001B[39m])])\n",
      "\u001B[0;31mValueError\u001B[0m: operands could not be broadcast together with shapes (1257,8,64) (1257,64) "
     ]
    }
   ],
   "source": [
    "def elm_train(v: Matrix, y: Matrix, gamma: float = 1e-6, d: int = 100) -> (Matrix, Vector, Matrix):\n",
    "    alpha = make_alpha(d, v.shape[1])\n",
    "    b_vec = make_b_vec(d)\n",
    "    b = compute_b(v.shape[0], b_vec)\n",
    "    h = compute_h(v, alpha, b)\n",
    "    i = make_i(d)\n",
    "    hp = compute_hp(h, i, gamma)\n",
    "    beta = compute_beta(hp, y)\n",
    "    return alpha, b_vec, beta\n",
    "\n",
    "\n",
    "trained_elm = elm_train(X_train, y_train, d=64)"
   ]
  },
  {
   "cell_type": "markdown",
   "id": "95529aa2",
   "metadata": {
    "id": "95529aa2"
   },
   "source": [
    "### 3. Выполнение предсказаний Машиной экстремального обучения\n",
    "\n",
    "Последовательность действий для выполнения предсказаний Машиной экстремального обучения имеет вид:\n",
    "\n",
    "<div style=\"margin-top:10px; display: block;width:100%\">\n",
    "<img src=\"https://user-images.githubusercontent.com/6759207/205480821-bf0fb3af-c9f6-4b8a-989e-d5420b9b5007.png\" width=\"600px\" align=\"left\" />\n",
    "</div>"
   ]
  },
  {
   "cell_type": "markdown",
   "id": "a763d048",
   "metadata": {
    "id": "a763d048"
   },
   "source": [
    "Для выполнения предсказаний используются веса $\\mathbf{\\alpha}$, $\\beta$, вектор сдвигов $\\vec {b}$.\n",
    "\n",
    "Целью данного этапа является выполнение предсказаний алгоритмом на тестовой выборке, подготовленной ранее."
   ]
  },
  {
   "cell_type": "markdown",
   "id": "963ad21d",
   "metadata": {
    "id": "963ad21d"
   },
   "source": [
    "**Задача 3.1.** Согласно алгоритму выше реализуйте функцию `elm_predict(v, alpha, b_vec, beta)`, возвращающую матрицу $\\mathbf{Y}_T\\in\\mathbb{R}^{n\\times o}$, каждая $i$-я строка которой содержит $o$-мерную метку классов для каждого $i$-го объекта $\\vec{v}_i\\in \\mathbf{V}_T$, причём $\\mathbf{V}_T\\in\\mathbb{R}^{n\\times m}$."
   ]
  },
  {
   "cell_type": "code",
   "execution_count": null,
   "id": "95e2e526",
   "metadata": {
    "id": "95e2e526"
   },
   "outputs": [],
   "source": []
  },
  {
   "cell_type": "markdown",
   "id": "836a43a7",
   "metadata": {
    "id": "836a43a7"
   },
   "source": [
    "**Задача 3.2.** При помощи функции `elm_predict` выполните предсказания меток классов для рукописных цифр из тестовой выборки $\\mathbf {X}_T$. Преобразуйте предсказанные метки классов $\\mathbf{Y}_T\\in\\mathbb{R}^{n\\times o}$ из унитарного кода в целые числа. Преобразуйте истинные метки классов для выборки $\\mathbf{X}_T$ (см. задачу 1.4) из унитарного кода в целые числа. Сравните истинные метки классов с предсказанными. Насколько хорошо алгоритм распознаёт рукописные цифры? Оцените точность предсказаний в процентах (при $\\gamma=10^{-6}$ и $d=100$ должно получиться ~95%)."
   ]
  },
  {
   "cell_type": "code",
   "execution_count": null,
   "id": "e974979d",
   "metadata": {
    "scrolled": false,
    "id": "e974979d"
   },
   "outputs": [],
   "source": []
  },
  {
   "cell_type": "markdown",
   "id": "334f12f0",
   "metadata": {
    "id": "334f12f0"
   },
   "source": [
    "### 4. Переработка кода\n",
    "\n",
    "Функции, реализованные выше, может быть довольно сложно переиспользовать: каждая функция реализована в отдельной ячейке, а состояние Машины экстремального обучения, представленное весовыми матрицами $\\alpha$, $\\beta$ и вектором сдвигов, хранится в глобальных переменных. Не изменяя логики работы алгоритмов глобальное состояние может быть представлено как внутреннее состояние класса, а функции, ответственные за обучение и выполнение предсказаний, могут быть представлены как методы класса.\n",
    "\n",
    "**Задача 4.1.** Перепишите код так, чтобы Машина экстремального обучения была представлена в виде класса по шаблону ниже:\n",
    "\n",
    "```python\n",
    "class ELM:\n",
    "    def __init__(self, d=100, gamma=1e-6):\n",
    "        self.d = d\n",
    "        self.gamma = gamma\n",
    "\n",
    "    def fit(self, x, y):\n",
    "        # TODO: Обучение алгоритма (см. секцию 2).\n",
    "        pass\n",
    "\n",
    "    def predict(self, x):\n",
    "        # TODO: Выполнение предсказаний (см. секцию 3).\n",
    "        pass\n",
    "```\n",
    "\n",
    "Не используйте ранее реализованные функции, пользуйтесь только функциями Python и библиотеки `numpy`. Выполните обучение и предсказания при помощи класса `ELM`, реализующего Машину экстремального обучения. Добейтесь того же самого результата и той же самой точности, как и при помощи функций, реализованных ранее."
   ]
  },
  {
   "cell_type": "code",
   "execution_count": null,
   "id": "6dbd725f",
   "metadata": {
    "id": "6dbd725f"
   },
   "outputs": [],
   "source": []
  },
  {
   "cell_type": "markdown",
   "id": "f3886518",
   "metadata": {
    "id": "f3886518"
   },
   "source": [
    "**Задача 4.2.** Как зависит точность предсказаний Машины экстремального обучения от числа нейронов на скрытом слое $d$ и коэффициента регуляризации $\\gamma$? Автоматизируйте выбор параметров $d$ и $\\gamma$ поиском по сетке, постройте график зависимости точности от $d$ и $\\gamma$ в трёхмерном пространстве."
   ]
  },
  {
   "cell_type": "code",
   "execution_count": null,
   "id": "ce14ca7e",
   "metadata": {
    "id": "ce14ca7e"
   },
   "outputs": [],
   "source": []
  }
 ],
 "metadata": {
  "kernelspec": {
   "display_name": "Python 3 (ipykernel)",
   "language": "python",
   "name": "python3"
  },
  "language_info": {
   "codemirror_mode": {
    "name": "ipython",
    "version": 3
   },
   "file_extension": ".py",
   "mimetype": "text/x-python",
   "name": "python",
   "nbconvert_exporter": "python",
   "pygments_lexer": "ipython3",
   "version": "3.10.6"
  },
  "colab": {
   "provenance": []
  }
 },
 "nbformat": 4,
 "nbformat_minor": 5
}
