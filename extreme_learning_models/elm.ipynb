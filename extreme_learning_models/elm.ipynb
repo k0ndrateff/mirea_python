{
 "cells": [
  {
   "cell_type": "markdown",
   "id": "6a060e0c",
   "metadata": {
    "id": "6a060e0c"
   },
   "source": [
    "## Машины экстремального обучения\n",
    "\n",
    "Горчаков А.В., кафедра корпоративных информационных систем, РТУ МИРЭА\n",
    "\n",
    "*Интеллектуальные алгоритмы* позволяют автоматизировать выявление скрытых нетривиальных закономерностей в данных, причём накопленные сведения автоматически обобщаются до информации, которая может быть охарактеризована как *знания*. Алгоритмы *машинного обучения* способны выполнять предсказания исходя из опыта, накопленного в результате анализа больших данных.\n",
    "\n",
    "*Машина экстремального обучения* (англ. Extreme Learning Machine, ELM) — архитектура искусственной нейронной сети, алгоритма машинного обучения с учителем, описанная Guang-Bin Huang в 2006 г. в работе [Extreme learning machine: Theory and applications](https://www.sciencedirect.com/science/article/abs/pii/S0925231206000385). По скорости обучения ELM значительно превосходит классические искусственные нейронные сети.\n",
    "\n",
    "Задача машинного обучения состоит в построении отображения $f: X \\rightarrow Y$, позволяющего по объекту из множества $X$ определить его характеристику $Y$. Например, в задаче распознавания рукописных цифр $X$ обозначает множество рукописных цифр, а $Y$ — метку класса, цифру из множества $\\{0, 1, 2, 3, \\cdots, 9\\}$. Задача распознавания рукописных цифр здесь — это задача классификации объектов на 10 классов.\n",
    "\n",
    "### 1. Подготовка данных\n",
    "\n",
    "Целью данного этапа является формирование обучающей и тестовой выборки.\n",
    "\n",
    "**Задача 1.1.** Загрузите набор данных с рукописными цифрами, используя функцию `load_digits()` из модуля `sklearn.datasets`. Рукописные цифры в наборе представлены в виде векторов, принадлежащих пространству $\\mathbb{R}^{64}$. Преобразуйте векторы к матрицам, принадлежащим пространству $\\mathbb{R}^{8\\times8}$, воспользуйтесь средствами `numpy`. Визуализируйте несколько рукописных цифр из загруженного набора данных $X$ средствами библиотеки `matplotlib`. Вместе с визуализацией цифры выведите на экран метку её класса."
   ]
  },
  {
   "cell_type": "code",
   "execution_count": 39,
   "id": "9bfc880a",
   "metadata": {
    "id": "9bfc880a",
    "ExecuteTime": {
     "end_time": "2024-03-16T16:21:26.302148Z",
     "start_time": "2024-03-16T16:21:26.224735Z"
    }
   },
   "outputs": [
    {
     "name": "stdout",
     "output_type": "stream",
     "text": [
      "1\n"
     ]
    },
    {
     "data": {
      "text/plain": "<Figure size 640x480 with 1 Axes>",
      "image/png": "[encoded data removed]"
     },
     "metadata": {},
     "output_type": "display_data"
    }
   ],
   "source": [
    "import math\n",
    "\n",
    "from sklearn.datasets import load_digits\n",
    "from sklearn.preprocessing import MinMaxScaler, OneHotEncoder\n",
    "from sklearn.model_selection import train_test_split\n",
    "import numpy as np\n",
    "import matplotlib.pyplot as plt\n",
    "import random\n",
    "\n",
    "digits = load_digits()\n",
    "\n",
    "mtx_digits = np.reshape(digits.data, (digits.data.shape[0], 8, 8))\n",
    "\n",
    "plt.imshow(mtx_digits[1], cmap='gray')\n",
    "print(digits.target[1])"
   ]
  },
  {
   "cell_type": "markdown",
   "id": "6e4a2ded",
   "metadata": {
    "id": "6e4a2ded"
   },
   "source": [
    "**Задача 1.2.** Примените минимаксное масштабирование к рукописным цифрам из множества $X$, представленным векторами, принадлежащими пространству $\\mathbb{R}^{64}$, воспользовавшись классом `MinMaxScaler` из библиотеки `sklearn`. Убедитесь, что компоненты каждого вектора $\\vec{x}_i\\in X$, кодирующего каждую $i$-ю цифру, принадлежат вещественному промежутку $[0, 1]$."
   ]
  },
  {
   "cell_type": "code",
   "execution_count": 57,
   "id": "7d263f14",
   "metadata": {
    "id": "7d263f14",
    "ExecuteTime": {
     "end_time": "2024-03-16T16:40:13.643345Z",
     "start_time": "2024-03-16T16:40:13.524199Z"
    }
   },
   "outputs": [
    {
     "ename": "ValueError",
     "evalue": "Found array with dim 3. MinMaxScaler expected <= 2.",
     "output_type": "error",
     "traceback": [
      "\u001B[0;31m---------------------------------------------------------------------------\u001B[0m",
      "\u001B[0;31mValueError\u001B[0m                                Traceback (most recent call last)",
      "Cell \u001B[0;32mIn[57], line 2\u001B[0m\n\u001B[1;32m      1\u001B[0m scaler \u001B[38;5;241m=\u001B[39m MinMaxScaler(feature_range\u001B[38;5;241m=\u001B[39m(\u001B[38;5;241m0\u001B[39m, \u001B[38;5;241m1\u001B[39m))\n\u001B[0;32m----> 2\u001B[0m scaled_digits \u001B[38;5;241m=\u001B[39m \u001B[43mscaler\u001B[49m\u001B[38;5;241;43m.\u001B[39;49m\u001B[43mfit_transform\u001B[49m\u001B[43m(\u001B[49m\u001B[43mmtx_digits\u001B[49m\u001B[38;5;241;43m.\u001B[39;49m\u001B[43mdata\u001B[49m\u001B[43m)\u001B[49m\n\u001B[1;32m      3\u001B[0m \u001B[38;5;28mprint\u001B[39m(scaled_digits)\n",
      "File \u001B[0;32m~/projects/python/mirea_python/.venv/lib/python3.9/site-packages/sklearn/utils/_set_output.py:295\u001B[0m, in \u001B[0;36m_wrap_method_output.<locals>.wrapped\u001B[0;34m(self, X, *args, **kwargs)\u001B[0m\n\u001B[1;32m    293\u001B[0m \u001B[38;5;129m@wraps\u001B[39m(f)\n\u001B[1;32m    294\u001B[0m \u001B[38;5;28;01mdef\u001B[39;00m \u001B[38;5;21mwrapped\u001B[39m(\u001B[38;5;28mself\u001B[39m, X, \u001B[38;5;241m*\u001B[39margs, \u001B[38;5;241m*\u001B[39m\u001B[38;5;241m*\u001B[39mkwargs):\n\u001B[0;32m--> 295\u001B[0m     data_to_wrap \u001B[38;5;241m=\u001B[39m \u001B[43mf\u001B[49m\u001B[43m(\u001B[49m\u001B[38;5;28;43mself\u001B[39;49m\u001B[43m,\u001B[49m\u001B[43m \u001B[49m\u001B[43mX\u001B[49m\u001B[43m,\u001B[49m\u001B[43m \u001B[49m\u001B[38;5;241;43m*\u001B[39;49m\u001B[43margs\u001B[49m\u001B[43m,\u001B[49m\u001B[43m \u001B[49m\u001B[38;5;241;43m*\u001B[39;49m\u001B[38;5;241;43m*\u001B[39;49m\u001B[43mkwargs\u001B[49m\u001B[43m)\u001B[49m\n\u001B[1;32m    296\u001B[0m     \u001B[38;5;28;01mif\u001B[39;00m \u001B[38;5;28misinstance\u001B[39m(data_to_wrap, \u001B[38;5;28mtuple\u001B[39m):\n\u001B[1;32m    297\u001B[0m         \u001B[38;5;66;03m# only wrap the first output for cross decomposition\u001B[39;00m\n\u001B[1;32m    298\u001B[0m         return_tuple \u001B[38;5;241m=\u001B[39m (\n\u001B[1;32m    299\u001B[0m             _wrap_data_with_container(method, data_to_wrap[\u001B[38;5;241m0\u001B[39m], X, \u001B[38;5;28mself\u001B[39m),\n\u001B[1;32m    300\u001B[0m             \u001B[38;5;241m*\u001B[39mdata_to_wrap[\u001B[38;5;241m1\u001B[39m:],\n\u001B[1;32m    301\u001B[0m         )\n",
      "File \u001B[0;32m~/projects/python/mirea_python/.venv/lib/python3.9/site-packages/sklearn/base.py:1098\u001B[0m, in \u001B[0;36mTransformerMixin.fit_transform\u001B[0;34m(self, X, y, **fit_params)\u001B[0m\n\u001B[1;32m   1083\u001B[0m         warnings\u001B[38;5;241m.\u001B[39mwarn(\n\u001B[1;32m   1084\u001B[0m             (\n\u001B[1;32m   1085\u001B[0m                 \u001B[38;5;124mf\u001B[39m\u001B[38;5;124m\"\u001B[39m\u001B[38;5;124mThis object (\u001B[39m\u001B[38;5;132;01m{\u001B[39;00m\u001B[38;5;28mself\u001B[39m\u001B[38;5;241m.\u001B[39m\u001B[38;5;18m__class__\u001B[39m\u001B[38;5;241m.\u001B[39m\u001B[38;5;18m__name__\u001B[39m\u001B[38;5;132;01m}\u001B[39;00m\u001B[38;5;124m) has a `transform`\u001B[39m\u001B[38;5;124m\"\u001B[39m\n\u001B[0;32m   (...)\u001B[0m\n\u001B[1;32m   1093\u001B[0m             \u001B[38;5;167;01mUserWarning\u001B[39;00m,\n\u001B[1;32m   1094\u001B[0m         )\n\u001B[1;32m   1096\u001B[0m \u001B[38;5;28;01mif\u001B[39;00m y \u001B[38;5;129;01mis\u001B[39;00m \u001B[38;5;28;01mNone\u001B[39;00m:\n\u001B[1;32m   1097\u001B[0m     \u001B[38;5;66;03m# fit method of arity 1 (unsupervised transformation)\u001B[39;00m\n\u001B[0;32m-> 1098\u001B[0m     \u001B[38;5;28;01mreturn\u001B[39;00m \u001B[38;5;28;43mself\u001B[39;49m\u001B[38;5;241;43m.\u001B[39;49m\u001B[43mfit\u001B[49m\u001B[43m(\u001B[49m\u001B[43mX\u001B[49m\u001B[43m,\u001B[49m\u001B[43m \u001B[49m\u001B[38;5;241;43m*\u001B[39;49m\u001B[38;5;241;43m*\u001B[39;49m\u001B[43mfit_params\u001B[49m\u001B[43m)\u001B[49m\u001B[38;5;241m.\u001B[39mtransform(X)\n\u001B[1;32m   1099\u001B[0m \u001B[38;5;28;01melse\u001B[39;00m:\n\u001B[1;32m   1100\u001B[0m     \u001B[38;5;66;03m# fit method of arity 2 (supervised transformation)\u001B[39;00m\n\u001B[1;32m   1101\u001B[0m     \u001B[38;5;28;01mreturn\u001B[39;00m \u001B[38;5;28mself\u001B[39m\u001B[38;5;241m.\u001B[39mfit(X, y, \u001B[38;5;241m*\u001B[39m\u001B[38;5;241m*\u001B[39mfit_params)\u001B[38;5;241m.\u001B[39mtransform(X)\n",
      "File \u001B[0;32m~/projects/python/mirea_python/.venv/lib/python3.9/site-packages/sklearn/preprocessing/_data.py:450\u001B[0m, in \u001B[0;36mMinMaxScaler.fit\u001B[0;34m(self, X, y)\u001B[0m\n\u001B[1;32m    448\u001B[0m \u001B[38;5;66;03m# Reset internal state before fitting\u001B[39;00m\n\u001B[1;32m    449\u001B[0m \u001B[38;5;28mself\u001B[39m\u001B[38;5;241m.\u001B[39m_reset()\n\u001B[0;32m--> 450\u001B[0m \u001B[38;5;28;01mreturn\u001B[39;00m \u001B[38;5;28;43mself\u001B[39;49m\u001B[38;5;241;43m.\u001B[39;49m\u001B[43mpartial_fit\u001B[49m\u001B[43m(\u001B[49m\u001B[43mX\u001B[49m\u001B[43m,\u001B[49m\u001B[43m \u001B[49m\u001B[43my\u001B[49m\u001B[43m)\u001B[49m\n",
      "File \u001B[0;32m~/projects/python/mirea_python/.venv/lib/python3.9/site-packages/sklearn/base.py:1474\u001B[0m, in \u001B[0;36m_fit_context.<locals>.decorator.<locals>.wrapper\u001B[0;34m(estimator, *args, **kwargs)\u001B[0m\n\u001B[1;32m   1467\u001B[0m     estimator\u001B[38;5;241m.\u001B[39m_validate_params()\n\u001B[1;32m   1469\u001B[0m \u001B[38;5;28;01mwith\u001B[39;00m config_context(\n\u001B[1;32m   1470\u001B[0m     skip_parameter_validation\u001B[38;5;241m=\u001B[39m(\n\u001B[1;32m   1471\u001B[0m         prefer_skip_nested_validation \u001B[38;5;129;01mor\u001B[39;00m global_skip_validation\n\u001B[1;32m   1472\u001B[0m     )\n\u001B[1;32m   1473\u001B[0m ):\n\u001B[0;32m-> 1474\u001B[0m     \u001B[38;5;28;01mreturn\u001B[39;00m \u001B[43mfit_method\u001B[49m\u001B[43m(\u001B[49m\u001B[43mestimator\u001B[49m\u001B[43m,\u001B[49m\u001B[43m \u001B[49m\u001B[38;5;241;43m*\u001B[39;49m\u001B[43margs\u001B[49m\u001B[43m,\u001B[49m\u001B[43m \u001B[49m\u001B[38;5;241;43m*\u001B[39;49m\u001B[38;5;241;43m*\u001B[39;49m\u001B[43mkwargs\u001B[49m\u001B[43m)\u001B[49m\n",
      "File \u001B[0;32m~/projects/python/mirea_python/.venv/lib/python3.9/site-packages/sklearn/preprocessing/_data.py:490\u001B[0m, in \u001B[0;36mMinMaxScaler.partial_fit\u001B[0;34m(self, X, y)\u001B[0m\n\u001B[1;32m    487\u001B[0m xp, _ \u001B[38;5;241m=\u001B[39m get_namespace(X)\n\u001B[1;32m    489\u001B[0m first_pass \u001B[38;5;241m=\u001B[39m \u001B[38;5;129;01mnot\u001B[39;00m \u001B[38;5;28mhasattr\u001B[39m(\u001B[38;5;28mself\u001B[39m, \u001B[38;5;124m\"\u001B[39m\u001B[38;5;124mn_samples_seen_\u001B[39m\u001B[38;5;124m\"\u001B[39m)\n\u001B[0;32m--> 490\u001B[0m X \u001B[38;5;241m=\u001B[39m \u001B[38;5;28;43mself\u001B[39;49m\u001B[38;5;241;43m.\u001B[39;49m\u001B[43m_validate_data\u001B[49m\u001B[43m(\u001B[49m\n\u001B[1;32m    491\u001B[0m \u001B[43m    \u001B[49m\u001B[43mX\u001B[49m\u001B[43m,\u001B[49m\n\u001B[1;32m    492\u001B[0m \u001B[43m    \u001B[49m\u001B[43mreset\u001B[49m\u001B[38;5;241;43m=\u001B[39;49m\u001B[43mfirst_pass\u001B[49m\u001B[43m,\u001B[49m\n\u001B[1;32m    493\u001B[0m \u001B[43m    \u001B[49m\u001B[43mdtype\u001B[49m\u001B[38;5;241;43m=\u001B[39;49m\u001B[43m_array_api\u001B[49m\u001B[38;5;241;43m.\u001B[39;49m\u001B[43msupported_float_dtypes\u001B[49m\u001B[43m(\u001B[49m\u001B[43mxp\u001B[49m\u001B[43m)\u001B[49m\u001B[43m,\u001B[49m\n\u001B[1;32m    494\u001B[0m \u001B[43m    \u001B[49m\u001B[43mforce_all_finite\u001B[49m\u001B[38;5;241;43m=\u001B[39;49m\u001B[38;5;124;43m\"\u001B[39;49m\u001B[38;5;124;43mallow-nan\u001B[39;49m\u001B[38;5;124;43m\"\u001B[39;49m\u001B[43m,\u001B[49m\n\u001B[1;32m    495\u001B[0m \u001B[43m\u001B[49m\u001B[43m)\u001B[49m\n\u001B[1;32m    497\u001B[0m data_min \u001B[38;5;241m=\u001B[39m _array_api\u001B[38;5;241m.\u001B[39m_nanmin(X, axis\u001B[38;5;241m=\u001B[39m\u001B[38;5;241m0\u001B[39m)\n\u001B[1;32m    498\u001B[0m data_max \u001B[38;5;241m=\u001B[39m _array_api\u001B[38;5;241m.\u001B[39m_nanmax(X, axis\u001B[38;5;241m=\u001B[39m\u001B[38;5;241m0\u001B[39m)\n",
      "File \u001B[0;32m~/projects/python/mirea_python/.venv/lib/python3.9/site-packages/sklearn/base.py:633\u001B[0m, in \u001B[0;36mBaseEstimator._validate_data\u001B[0;34m(self, X, y, reset, validate_separately, cast_to_ndarray, **check_params)\u001B[0m\n\u001B[1;32m    631\u001B[0m         out \u001B[38;5;241m=\u001B[39m X, y\n\u001B[1;32m    632\u001B[0m \u001B[38;5;28;01melif\u001B[39;00m \u001B[38;5;129;01mnot\u001B[39;00m no_val_X \u001B[38;5;129;01mand\u001B[39;00m no_val_y:\n\u001B[0;32m--> 633\u001B[0m     out \u001B[38;5;241m=\u001B[39m \u001B[43mcheck_array\u001B[49m\u001B[43m(\u001B[49m\u001B[43mX\u001B[49m\u001B[43m,\u001B[49m\u001B[43m \u001B[49m\u001B[43minput_name\u001B[49m\u001B[38;5;241;43m=\u001B[39;49m\u001B[38;5;124;43m\"\u001B[39;49m\u001B[38;5;124;43mX\u001B[39;49m\u001B[38;5;124;43m\"\u001B[39;49m\u001B[43m,\u001B[49m\u001B[43m \u001B[49m\u001B[38;5;241;43m*\u001B[39;49m\u001B[38;5;241;43m*\u001B[39;49m\u001B[43mcheck_params\u001B[49m\u001B[43m)\u001B[49m\n\u001B[1;32m    634\u001B[0m \u001B[38;5;28;01melif\u001B[39;00m no_val_X \u001B[38;5;129;01mand\u001B[39;00m \u001B[38;5;129;01mnot\u001B[39;00m no_val_y:\n\u001B[1;32m    635\u001B[0m     out \u001B[38;5;241m=\u001B[39m _check_y(y, \u001B[38;5;241m*\u001B[39m\u001B[38;5;241m*\u001B[39mcheck_params)\n",
      "File \u001B[0;32m~/projects/python/mirea_python/.venv/lib/python3.9/site-packages/sklearn/utils/validation.py:1043\u001B[0m, in \u001B[0;36mcheck_array\u001B[0;34m(array, accept_sparse, accept_large_sparse, dtype, order, copy, force_all_finite, ensure_2d, allow_nd, ensure_min_samples, ensure_min_features, estimator, input_name)\u001B[0m\n\u001B[1;32m   1038\u001B[0m     \u001B[38;5;28;01mraise\u001B[39;00m \u001B[38;5;167;01mValueError\u001B[39;00m(\n\u001B[1;32m   1039\u001B[0m         \u001B[38;5;124m\"\u001B[39m\u001B[38;5;124mdtype=\u001B[39m\u001B[38;5;124m'\u001B[39m\u001B[38;5;124mnumeric\u001B[39m\u001B[38;5;124m'\u001B[39m\u001B[38;5;124m is not compatible with arrays of bytes/strings.\u001B[39m\u001B[38;5;124m\"\u001B[39m\n\u001B[1;32m   1040\u001B[0m         \u001B[38;5;124m\"\u001B[39m\u001B[38;5;124mConvert your data to numeric values explicitly instead.\u001B[39m\u001B[38;5;124m\"\u001B[39m\n\u001B[1;32m   1041\u001B[0m     )\n\u001B[1;32m   1042\u001B[0m \u001B[38;5;28;01mif\u001B[39;00m \u001B[38;5;129;01mnot\u001B[39;00m allow_nd \u001B[38;5;129;01mand\u001B[39;00m array\u001B[38;5;241m.\u001B[39mndim \u001B[38;5;241m>\u001B[39m\u001B[38;5;241m=\u001B[39m \u001B[38;5;241m3\u001B[39m:\n\u001B[0;32m-> 1043\u001B[0m     \u001B[38;5;28;01mraise\u001B[39;00m \u001B[38;5;167;01mValueError\u001B[39;00m(\n\u001B[1;32m   1044\u001B[0m         \u001B[38;5;124m\"\u001B[39m\u001B[38;5;124mFound array with dim \u001B[39m\u001B[38;5;132;01m%d\u001B[39;00m\u001B[38;5;124m. \u001B[39m\u001B[38;5;132;01m%s\u001B[39;00m\u001B[38;5;124m expected <= 2.\u001B[39m\u001B[38;5;124m\"\u001B[39m\n\u001B[1;32m   1045\u001B[0m         \u001B[38;5;241m%\u001B[39m (array\u001B[38;5;241m.\u001B[39mndim, estimator_name)\n\u001B[1;32m   1046\u001B[0m     )\n\u001B[1;32m   1048\u001B[0m \u001B[38;5;28;01mif\u001B[39;00m force_all_finite:\n\u001B[1;32m   1049\u001B[0m     _assert_all_finite(\n\u001B[1;32m   1050\u001B[0m         array,\n\u001B[1;32m   1051\u001B[0m         input_name\u001B[38;5;241m=\u001B[39minput_name,\n\u001B[1;32m   1052\u001B[0m         estimator_name\u001B[38;5;241m=\u001B[39mestimator_name,\n\u001B[1;32m   1053\u001B[0m         allow_nan\u001B[38;5;241m=\u001B[39mforce_all_finite \u001B[38;5;241m==\u001B[39m \u001B[38;5;124m\"\u001B[39m\u001B[38;5;124mallow-nan\u001B[39m\u001B[38;5;124m\"\u001B[39m,\n\u001B[1;32m   1054\u001B[0m     )\n",
      "\u001B[0;31mValueError\u001B[0m: Found array with dim 3. MinMaxScaler expected <= 2."
     ]
    }
   ],
   "source": [
    "scaler = MinMaxScaler(feature_range=(0, 1))\n",
    "scaled_digits = scaler.fit_transform(digits.data)\n",
    "print(scaled_digits)"
   ]
  },
  {
   "cell_type": "markdown",
   "id": "eb78d688",
   "metadata": {
    "id": "eb78d688"
   },
   "source": [
    "**Задача 1.3.** Преобразуйте метки классов рукописных цифр в векторы, принадлежащие пространству $\\mathbb {R}^{10}$, используя унитарный код (англ. one-hot encoding). Воспользуйтесь классом `OneHotEncoder` из библиотеки `sklearn`."
   ]
  },
  {
   "cell_type": "code",
   "execution_count": 41,
   "id": "d0c641e9",
   "metadata": {
    "id": "d0c641e9",
    "ExecuteTime": {
     "end_time": "2024-03-16T16:21:26.311536Z",
     "start_time": "2024-03-16T16:21:26.307975Z"
    }
   },
   "outputs": [
    {
     "name": "stdout",
     "output_type": "stream",
     "text": [
      "  (0, 3)\t1.0\n"
     ]
    }
   ],
   "source": [
    "encoder = OneHotEncoder()\n",
    "targets = encoder.fit_transform(digits.target.reshape(-1, 1))\n",
    "print(targets[3])"
   ]
  },
  {
   "cell_type": "markdown",
   "id": "618ac8b4",
   "metadata": {
    "id": "618ac8b4"
   },
   "source": [
    "**Задача 1.4.** Разбейте набор данных, состоящий из множества масштабированных векторов $x_i \\in X$ и множества меток классов $y_i \\in Y$, на обучающую и тестовую выборки. Воспользуйтесь функцией `train_test_split` из библиотеки `sklearn`. Пусть обучающий набор содержит 70% от общего числа пар объект-ответ, а тестовый набор — 30% от общего числа. Убедитесь, что разделение произведено корректно, визуализировав несколько рукописных цифр из новых выборок вместе с их метками классов."
   ]
  },
  {
   "cell_type": "code",
   "execution_count": 60,
   "id": "8802725b",
   "metadata": {
    "id": "8802725b",
    "ExecuteTime": {
     "end_time": "2024-03-16T16:43:02.294324Z",
     "start_time": "2024-03-16T16:43:02.214548Z"
    }
   },
   "outputs": [
    {
     "name": "stdout",
     "output_type": "stream",
     "text": [
      "2\n"
     ]
    },
    {
     "data": {
      "text/plain": "<Figure size 640x480 with 1 Axes>",
      "image/png": "[encoded data removed]"
     },
     "metadata": {},
     "output_type": "display_data"
    }
   ],
   "source": [
    "scaled_mtx_digits = np.reshape(scaled_digits, (scaled_digits.shape[0], 8, 8))\n",
    "X_train, X_test, y_train, y_test = train_test_split(scaled_mtx_digits, digits.target, test_size=0.3)\n",
    "\n",
    "plt.imshow(X_train[0], cmap='gray')\n",
    "print(y_train[0])"
   ]
  },
  {
   "cell_type": "markdown",
   "id": "bc613bba",
   "metadata": {
    "id": "bc613bba"
   },
   "source": [
    "### 2. Обучение Машины экстремального обучения\n",
    "\n",
    "Последовательность действий для обучения классификатора на основе Машины экстремального обучения имеет вид:\n",
    "\n",
    "<div style=\"margin-top:10px; display: block;width:100%\">\n",
    "<img src=\"https://user-images.githubusercontent.com/6759207/205480896-79304871-0905-4444-9a05-bf2592e5ef60.png\" width=\"600px\" align=\"left\" />\n",
    "</div>"
   ]
  },
  {
   "cell_type": "markdown",
   "id": "e17e00bf",
   "metadata": {
    "id": "e17e00bf"
   },
   "source": [
    "Результатом обучения являются веса нейронной сети $\\mathbf{\\alpha}$, $\\beta$, вектор сдвигов $\\vec {b}$.\n",
    "\n",
    "Целью данного этапа является обучение алгоритма на размеченной обучающей выборке, подготовленной ранее.\n",
    "\n",
    "**Задача 2.1.** Реализуйте функцию `make_alpha(d, m)`, инициализирующую матрицу $\\mathbf{\\alpha} \\in \\mathbb{R}^{d \\times m}$ случайными числами из $[-1,1]$."
   ]
  },
  {
   "cell_type": "code",
   "execution_count": 43,
   "id": "d0c8be76",
   "metadata": {
    "id": "d0c8be76",
    "ExecuteTime": {
     "end_time": "2024-03-16T16:21:26.391655Z",
     "start_time": "2024-03-16T16:21:26.387881Z"
    }
   },
   "outputs": [
    {
     "name": "stdout",
     "output_type": "stream",
     "text": [
      "[[ 0.08512473  0.24460469 -0.78213846 -0.5060102  -0.9323176 ]\n",
      " [ 0.49647792  0.62383627  0.347332   -0.92959681  0.8370321 ]\n",
      " [-0.68111938  0.7068427  -0.26649071  0.22194929  0.26034791]\n",
      " [-0.6189647   0.19356234  0.103722   -0.20478084 -0.29095596]\n",
      " [-0.69484665  0.55067882 -0.30878199 -0.085858    0.6799917 ]]\n"
     ]
    }
   ],
   "source": [
    "Matrix = np.ndarray\n",
    "\n",
    "def make_alpha(d: int, m: int) -> Matrix:\n",
    "    return np.array([[(random.random() * 2 - 1) for i in range(m)] for j in range(d)])\n",
    "\n",
    "print(make_alpha(5, 5))"
   ]
  },
  {
   "cell_type": "markdown",
   "id": "8732844f",
   "metadata": {
    "id": "8732844f"
   },
   "source": [
    "**Задача 2.2.** Реализуйте функцию `make_b_vec(d)`, инициализирующую вектор $\\vec{b}\\in\\mathbb{R}^{d}$ случайными числами из $[-1,1]$."
   ]
  },
  {
   "cell_type": "code",
   "execution_count": 44,
   "id": "ed7c9b8e",
   "metadata": {
    "id": "ed7c9b8e",
    "ExecuteTime": {
     "end_time": "2024-03-16T16:21:26.395355Z",
     "start_time": "2024-03-16T16:21:26.392449Z"
    }
   },
   "outputs": [
    {
     "name": "stdout",
     "output_type": "stream",
     "text": [
      "[ 0.16281113 -0.48364238 -0.68171349  0.66251101 -0.96295936]\n"
     ]
    }
   ],
   "source": [
    "Vector = np.ndarray\n",
    "\n",
    "def make_b_vec(d: int) -> Vector:\n",
    "    return np.array([(random.random() * 2 - 1) for i in range(d)])\n",
    "\n",
    "print(make_b_vec(5))"
   ]
  },
  {
   "cell_type": "markdown",
   "id": "f0bbeb2e",
   "metadata": {
    "id": "f0bbeb2e"
   },
   "source": [
    "**Задача 2.3.** Реализуйте функцию `compute_b(n, b_vec)`, вычисляющую $\\mathbf{b}\\in\\mathbb{R}^{n \\times d}$ клонированием вектора $\\vec{b}$ $n$ раз."
   ]
  },
  {
   "cell_type": "code",
   "execution_count": 45,
   "id": "868030a8",
   "metadata": {
    "id": "868030a8",
    "ExecuteTime": {
     "end_time": "2024-03-16T16:21:26.399470Z",
     "start_time": "2024-03-16T16:21:26.396747Z"
    }
   },
   "outputs": [
    {
     "name": "stdout",
     "output_type": "stream",
     "text": [
      "[[ 0.8924179  -0.51783344  0.15527976 -0.44071813  0.93251458]\n",
      " [ 0.8924179  -0.51783344  0.15527976 -0.44071813  0.93251458]\n",
      " [ 0.8924179  -0.51783344  0.15527976 -0.44071813  0.93251458]\n",
      " [ 0.8924179  -0.51783344  0.15527976 -0.44071813  0.93251458]\n",
      " [ 0.8924179  -0.51783344  0.15527976 -0.44071813  0.93251458]]\n"
     ]
    }
   ],
   "source": [
    "def compute_b(n: int, b_vec: Vector) -> Matrix:\n",
    "    return np.array([b_vec for i in range(n)])\n",
    "\n",
    "print(compute_b(5, make_b_vec(5)))"
   ]
  },
  {
   "cell_type": "markdown",
   "id": "d474f7b7",
   "metadata": {
    "id": "d474f7b7"
   },
   "source": [
    "**Задача 2.4.** Реализуйте функцию `compute_h(v, alpha, b)`, вычисляющую выходную матрицу скрытого слоя по формуле $\\mathbf{H}=\\sigma(\\mathbf{V}_L\\mathbf{\\alpha}^T + \\mathbf{b})$. $\\mathbf {V}_L$ обозначает матрицу, каждая $i$-я строка которой кодирует $i$-й объект из *обучающей выборки*. $\\alpha^T$ обозначает транспонирование матрицы весов $\\alpha$. Сигмоидальная функция активации $\\sigma$ определяется как $\\sigma(x)=(1 + e^{-x})^{-1}$ и применяется к каждому элементу матрицы. Убедитесь, что матрица $\\mathbf {H}$ принадлежит пространству $\\mathbb {R}^{n\\times d}$."
   ]
  },
  {
   "cell_type": "code",
   "execution_count": 50,
   "id": "76482acc",
   "metadata": {
    "id": "76482acc",
    "ExecuteTime": {
     "end_time": "2024-03-16T16:28:40.777449Z",
     "start_time": "2024-03-16T16:28:40.772129Z"
    }
   },
   "outputs": [
    {
     "name": "stdout",
     "output_type": "stream",
     "text": [
      "[[0.47513149 0.28629229 0.7131582  0.44821588 0.2459099 ]\n",
      " [0.37028178 0.43762427 0.50715428 0.43170649 0.36221446]\n",
      " [0.29094958 0.76945764 0.2902822  0.5090713  0.81649221]\n",
      " [0.39039947 0.5613983  0.66010931 0.49839165 0.52317825]\n",
      " [0.20018179 0.54786403 0.32131814 0.54045605 0.59895499]]\n"
     ]
    }
   ],
   "source": [
    "def sigmoid(x: float) -> float:\n",
    "    return (1 + math.e ** -x) ** -1\n",
    "\n",
    "\n",
    "def compute_h(v: Matrix, alpha: Matrix, b: Matrix) -> Matrix:\n",
    "    alpha_transposed = np.transpose(alpha)\n",
    "    v_a_transposed = np.dot(v, alpha_transposed)\n",
    "    inner_sum = v_a_transposed + b\n",
    "    return np.array([[sigmoid(inner_sum[i][j]) for j in range(v.shape[1])] for i in range(v.shape[0])])\n",
    "\n",
    "H = compute_h(make_alpha(5, 5), make_alpha(5, 5), make_b_vec(5))\n",
    "print(H)"
   ]
  },
  {
   "cell_type": "markdown",
   "id": "42e64f9d",
   "metadata": {
    "id": "42e64f9d"
   },
   "source": [
    "**Задача 2.5.** Реализуйте функцию `make_i(d)`, осуществляющую построение диагональной матрицы $\\mathbf {I} \\in \\mathbb {R}^{d\\times d}$. Элементы на главной диагонали матрицы $\\mathbf {I}$ должны быть равны 1, а элементы, не принадлежащие главной диагонали, должны быть равны 0. Убедитесь, что матрица $\\mathbf {I}$ принадлежит пространству $\\mathbb {R}^{d\\times d}$."
   ]
  },
  {
   "cell_type": "code",
   "execution_count": 51,
   "id": "dc4a48a2",
   "metadata": {
    "id": "dc4a48a2",
    "ExecuteTime": {
     "end_time": "2024-03-16T16:28:55.663828Z",
     "start_time": "2024-03-16T16:28:55.661322Z"
    }
   },
   "outputs": [
    {
     "name": "stdout",
     "output_type": "stream",
     "text": [
      "[[1 0 0 0 0]\n",
      " [0 1 0 0 0]\n",
      " [0 0 1 0 0]\n",
      " [0 0 0 1 0]\n",
      " [0 0 0 0 1]]\n"
     ]
    }
   ],
   "source": [
    "def make_i(d: int) -> Matrix:\n",
    "    return np.array([[1 if i == j else 0 for j in range(d)] for i in range(d)])\n",
    "\n",
    "I = make_i(5)\n",
    "print(I)"
   ]
  },
  {
   "cell_type": "markdown",
   "id": "1ef62413",
   "metadata": {
    "id": "1ef62413"
   },
   "source": [
    "**Задача 2.6.** Реализуйте функцию `compute_hp(h, i, gamma=1e-6)`, вычисляющую псевдообратную матрицу с регуляризацией для матрицы $\\mathbf{H}$ по формуле $\\mathbf{H}^{†}=(\\mathbf{H}^T\\mathbf{H} + \\gamma\\mathbf{I})^{-1}\\mathbf{H}^T$. Операция $(\\cdots)^T$ обозначает транспорирование матрицы, операция $(\\cdots)^{-1}$ обозначает операцию нахождения обратной матрицы для значения в скобках. Убедитесь, что матрица $\\mathbf {H}$ принадлежит пространству $\\mathbb {R}^{d\\times n}$."
   ]
  },
  {
   "cell_type": "code",
   "execution_count": 54,
   "id": "d0fb9d98",
   "metadata": {
    "id": "d0fb9d98",
    "ExecuteTime": {
     "end_time": "2024-03-16T16:29:11.719018Z",
     "start_time": "2024-03-16T16:29:11.713393Z"
    }
   },
   "outputs": [
    {
     "name": "stdout",
     "output_type": "stream",
     "text": [
      "[[  5.40708289   1.70685885   5.27876505  -7.63435546  -3.77972867]\n",
      " [-10.12820235  13.74645042  -3.40504965   2.8548816   -2.00625285]\n",
      " [ -0.85860229  -4.26693411  -2.04833707   6.67098866  -0.10189424]\n",
      " [ -0.01932553   4.26899888  -2.98192466  -4.6510777    5.55401015]\n",
      " [  7.93516883 -14.70732159   5.13993398   0.55825386  -0.18903006]]\n"
     ]
    }
   ],
   "source": [
    "def compute_hp(h: Matrix, i: Matrix, gamma: float = 1e-6) -> Matrix:\n",
    "    h_transposed = np.transpose(h)\n",
    "    h_transposed_h = np.dot(h_transposed, h)\n",
    "    gamma_i = gamma * i\n",
    "    inner_mtx = h_transposed_h + gamma_i\n",
    "    inverted_inner_mtx = np.linalg.inv(inner_mtx)\n",
    "    return np.dot(inverted_inner_mtx, h_transposed)\n",
    "\n",
    "print(compute_hp(H, I))"
   ]
  },
  {
   "cell_type": "markdown",
   "id": "9adc5ce9",
   "metadata": {
    "id": "9adc5ce9"
   },
   "source": [
    "**Задача 2.7.** Реализуйте функцию `compute_beta(hp, y)`, вычисляющую веса $\\mathbf {\\beta} \\in \\mathbb{R}^{d\\times m}$ по формуле $\\mathbf {\\beta} = \\mathbf {H}^{†} \\mathbf {Y}_L$, где $\\mathbf {Y}_L$ обозначает матрицу, каждая $i$-я строка которой кодирует $i$-й *ответ* из обучающей выборки. Каждый ответ представлен $m$-мерным вектором, используется унитарный код (англ. one-hot encoding). Убедитесь, что матрица $\\mathbf {Y}_L$ принадлежит пространству $\\mathbb {R}^{d\\times o}$, где $d$ - число нейронов на скрытом слое, $o$ - число меток классов."
   ]
  },
  {
   "cell_type": "code",
   "execution_count": 55,
   "id": "ddb53bb0",
   "metadata": {
    "id": "ddb53bb0",
    "ExecuteTime": {
     "end_time": "2024-03-16T16:31:12.606092Z",
     "start_time": "2024-03-16T16:31:12.603226Z"
    }
   },
   "outputs": [],
   "source": [
    "def compute_beta(hp: Matrix, y: Matrix) -> Matrix:\n",
    "    return np.dot(hp, y)"
   ]
  },
  {
   "cell_type": "markdown",
   "id": "295497e2",
   "metadata": {
    "id": "295497e2"
   },
   "source": [
    "**Задача 2.8.** Объедините реализованные ранее функции в функцию `elm_train(v, y, gamma=1e-6, d=100)`, возвращающую кортеж из случайных весов $\\alpha\\in\\mathbb{R}^{d\\times m}$, вектора сдвигов $\\vec {b}\\in\\mathbb{R}^{d}$, обученных весов $\\beta\\in\\mathbb{R}^{d\\times o}$. Примените функцию к ранее подготовленной обучающей выборке."
   ]
  },
  {
   "cell_type": "code",
   "execution_count": 61,
   "id": "10377b72",
   "metadata": {
    "scrolled": false,
    "id": "10377b72",
    "ExecuteTime": {
     "end_time": "2024-03-16T16:43:24.438958Z",
     "start_time": "2024-03-16T16:43:24.405643Z"
    }
   },
   "outputs": [
    {
     "ename": "ValueError",
     "evalue": "operands could not be broadcast together with shapes (1257,8,64) (1257,64) ",
     "output_type": "error",
     "traceback": [
      "\u001B[0;31m---------------------------------------------------------------------------\u001B[0m",
      "\u001B[0;31mValueError\u001B[0m                                Traceback (most recent call last)",
      "Cell \u001B[0;32mIn[61], line 12\u001B[0m\n\u001B[1;32m      8\u001B[0m     beta \u001B[38;5;241m=\u001B[39m compute_beta(hp, y)\n\u001B[1;32m      9\u001B[0m     \u001B[38;5;28;01mreturn\u001B[39;00m alpha, b_vec, beta\n\u001B[0;32m---> 12\u001B[0m trained_elm \u001B[38;5;241m=\u001B[39m \u001B[43melm_train\u001B[49m\u001B[43m(\u001B[49m\u001B[43mX_train\u001B[49m\u001B[43m,\u001B[49m\u001B[43m \u001B[49m\u001B[43my_train\u001B[49m\u001B[43m,\u001B[49m\u001B[43m \u001B[49m\u001B[43md\u001B[49m\u001B[38;5;241;43m=\u001B[39;49m\u001B[38;5;241;43m64\u001B[39;49m\u001B[43m)\u001B[49m\n",
      "Cell \u001B[0;32mIn[61], line 5\u001B[0m, in \u001B[0;36melm_train\u001B[0;34m(v, y, gamma, d)\u001B[0m\n\u001B[1;32m      3\u001B[0m b_vec \u001B[38;5;241m=\u001B[39m make_b_vec(d)\n\u001B[1;32m      4\u001B[0m b \u001B[38;5;241m=\u001B[39m compute_b(v\u001B[38;5;241m.\u001B[39mshape[\u001B[38;5;241m0\u001B[39m], b_vec)\n\u001B[0;32m----> 5\u001B[0m h \u001B[38;5;241m=\u001B[39m \u001B[43mcompute_h\u001B[49m\u001B[43m(\u001B[49m\u001B[43mv\u001B[49m\u001B[43m,\u001B[49m\u001B[43m \u001B[49m\u001B[43malpha\u001B[49m\u001B[43m,\u001B[49m\u001B[43m \u001B[49m\u001B[43mb\u001B[49m\u001B[43m)\u001B[49m\n\u001B[1;32m      6\u001B[0m i \u001B[38;5;241m=\u001B[39m make_i(d)\n\u001B[1;32m      7\u001B[0m hp \u001B[38;5;241m=\u001B[39m compute_hp(h, i, gamma)\n",
      "Cell \u001B[0;32mIn[50], line 8\u001B[0m, in \u001B[0;36mcompute_h\u001B[0;34m(v, alpha, b)\u001B[0m\n\u001B[1;32m      6\u001B[0m alpha_transposed \u001B[38;5;241m=\u001B[39m np\u001B[38;5;241m.\u001B[39mtranspose(alpha)\n\u001B[1;32m      7\u001B[0m v_a_transposed \u001B[38;5;241m=\u001B[39m np\u001B[38;5;241m.\u001B[39mdot(v, alpha_transposed)\n\u001B[0;32m----> 8\u001B[0m inner_sum \u001B[38;5;241m=\u001B[39m \u001B[43mv_a_transposed\u001B[49m\u001B[43m \u001B[49m\u001B[38;5;241;43m+\u001B[39;49m\u001B[43m \u001B[49m\u001B[43mb\u001B[49m\n\u001B[1;32m      9\u001B[0m \u001B[38;5;28;01mreturn\u001B[39;00m np\u001B[38;5;241m.\u001B[39marray([[sigmoid(inner_sum[i][j]) \u001B[38;5;28;01mfor\u001B[39;00m j \u001B[38;5;129;01min\u001B[39;00m \u001B[38;5;28mrange\u001B[39m(v\u001B[38;5;241m.\u001B[39mshape[\u001B[38;5;241m1\u001B[39m])] \u001B[38;5;28;01mfor\u001B[39;00m i \u001B[38;5;129;01min\u001B[39;00m \u001B[38;5;28mrange\u001B[39m(v\u001B[38;5;241m.\u001B[39mshape[\u001B[38;5;241m0\u001B[39m])])\n",
      "\u001B[0;31mValueError\u001B[0m: operands could not be broadcast together with shapes (1257,8,64) (1257,64) "
     ]
    }
   ],
   "source": [
    "def elm_train(v: Matrix, y: Matrix, gamma: float = 1e-6, d: int = 100) -> (Matrix, Vector, Matrix):\n",
    "    alpha = make_alpha(d, v.shape[1])\n",
    "    b_vec = make_b_vec(d)\n",
    "    b = compute_b(v.shape[0], b_vec)\n",
    "    h = compute_h(v, alpha, b)\n",
    "    i = make_i(d)\n",
    "    hp = compute_hp(h, i, gamma)\n",
    "    beta = compute_beta(hp, y)\n",
    "    return alpha, b_vec, beta\n",
    "\n",
    "\n",
    "trained_elm = elm_train(X_train, y_train, d=64)"
   ]
  },
  {
   "cell_type": "markdown",
   "id": "95529aa2",
   "metadata": {
    "id": "95529aa2"
   },
   "source": [
    "### 3. Выполнение предсказаний Машиной экстремального обучения\n",
    "\n",
    "Последовательность действий для выполнения предсказаний Машиной экстремального обучения имеет вид:\n",
    "\n",
    "<div style=\"margin-top:10px; display: block;width:100%\">\n",
    "<img src=\"https://user-images.githubusercontent.com/6759207/205480821-bf0fb3af-c9f6-4b8a-989e-d5420b9b5007.png\" width=\"600px\" align=\"left\" />\n",
    "</div>"
   ]
  },
  {
   "cell_type": "markdown",
   "id": "a763d048",
   "metadata": {
    "id": "a763d048"
   },
   "source": [
    "Для выполнения предсказаний используются веса $\\mathbf{\\alpha}$, $\\beta$, вектор сдвигов $\\vec {b}$.\n",
    "\n",
    "Целью данного этапа является выполнение предсказаний алгоритмом на тестовой выборке, подготовленной ранее."
   ]
  },
  {
   "cell_type": "markdown",
   "id": "963ad21d",
   "metadata": {
    "id": "963ad21d"
   },
   "source": [
    "**Задача 3.1.** Согласно алгоритму выше реализуйте функцию `elm_predict(v, alpha, b_vec, beta)`, возвращающую матрицу $\\mathbf{Y}_T\\in\\mathbb{R}^{n\\times o}$, каждая $i$-я строка которой содержит $o$-мерную метку классов для каждого $i$-го объекта $\\vec{v}_i\\in \\mathbf{V}_T$, причём $\\mathbf{V}_T\\in\\mathbb{R}^{n\\times m}$."
   ]
  },
  {
   "cell_type": "code",
   "execution_count": 46,
   "id": "95e2e526",
   "metadata": {
    "id": "95e2e526",
    "ExecuteTime": {
     "end_time": "2024-03-16T16:21:26.419600Z",
     "start_time": "2024-03-16T16:21:26.418087Z"
    }
   },
   "outputs": [],
   "source": []
  },
  {
   "cell_type": "markdown",
   "id": "836a43a7",
   "metadata": {
    "id": "836a43a7"
   },
   "source": [
    "**Задача 3.2.** При помощи функции `elm_predict` выполните предсказания меток классов для рукописных цифр из тестовой выборки $\\mathbf {X}_T$. Преобразуйте предсказанные метки классов $\\mathbf{Y}_T\\in\\mathbb{R}^{n\\times o}$ из унитарного кода в целые числа. Преобразуйте истинные метки классов для выборки $\\mathbf{X}_T$ (см. задачу 1.4) из унитарного кода в целые числа. Сравните истинные метки классов с предсказанными. Насколько хорошо алгоритм распознаёт рукописные цифры? Оцените точность предсказаний в процентах (при $\\gamma=10^{-6}$ и $d=100$ должно получиться ~95%)."
   ]
  },
  {
   "cell_type": "code",
   "execution_count": 46,
   "id": "e974979d",
   "metadata": {
    "scrolled": false,
    "id": "e974979d",
    "ExecuteTime": {
     "end_time": "2024-03-16T16:21:26.422430Z",
     "start_time": "2024-03-16T16:21:26.420619Z"
    }
   },
   "outputs": [],
   "source": []
  },
  {
   "cell_type": "markdown",
   "id": "334f12f0",
   "metadata": {
    "id": "334f12f0"
   },
   "source": [
    "### 4. Переработка кода\n",
    "\n",
    "Функции, реализованные выше, может быть довольно сложно переиспользовать: каждая функция реализована в отдельной ячейке, а состояние Машины экстремального обучения, представленное весовыми матрицами $\\alpha$, $\\beta$ и вектором сдвигов, хранится в глобальных переменных. Не изменяя логики работы алгоритмов глобальное состояние может быть представлено как внутреннее состояние класса, а функции, ответственные за обучение и выполнение предсказаний, могут быть представлены как методы класса.\n",
    "\n",
    "**Задача 4.1.** Перепишите код так, чтобы Машина экстремального обучения была представлена в виде класса по шаблону ниже:\n",
    "\n",
    "```python\n",
    "class ELM:\n",
    "    def __init__(self, d=100, gamma=1e-6):\n",
    "        self.d = d\n",
    "        self.gamma = gamma\n",
    "\n",
    "    def fit(self, x, y):\n",
    "        # TODO: Обучение алгоритма (см. секцию 2).\n",
    "        pass\n",
    "\n",
    "    def predict(self, x):\n",
    "        # TODO: Выполнение предсказаний (см. секцию 3).\n",
    "        pass\n",
    "```\n",
    "\n",
    "Не используйте ранее реализованные функции, пользуйтесь только функциями Python и библиотеки `numpy`. Выполните обучение и предсказания при помощи класса `ELM`, реализующего Машину экстремального обучения. Добейтесь того же самого результата и той же самой точности, как и при помощи функций, реализованных ранее."
   ]
  },
  {
   "cell_type": "code",
   "execution_count": 46,
   "id": "6dbd725f",
   "metadata": {
    "id": "6dbd725f",
    "ExecuteTime": {
     "end_time": "2024-03-16T16:21:26.424522Z",
     "start_time": "2024-03-16T16:21:26.423078Z"
    }
   },
   "outputs": [],
   "source": []
  },
  {
   "cell_type": "markdown",
   "id": "f3886518",
   "metadata": {
    "id": "f3886518"
   },
   "source": [
    "**Задача 4.2.** Как зависит точность предсказаний Машины экстремального обучения от числа нейронов на скрытом слое $d$ и коэффициента регуляризации $\\gamma$? Автоматизируйте выбор параметров $d$ и $\\gamma$ поиском по сетке, постройте график зависимости точности от $d$ и $\\gamma$ в трёхмерном пространстве."
   ]
  },
  {
   "cell_type": "code",
   "execution_count": 46,
   "id": "ce14ca7e",
   "metadata": {
    "id": "ce14ca7e",
    "ExecuteTime": {
     "end_time": "2024-03-16T16:21:26.427093Z",
     "start_time": "2024-03-16T16:21:26.425271Z"
    }
   },
   "outputs": [],
   "source": []
  }
 ],
 "metadata": {
  "kernelspec": {
   "display_name": "Python 3 (ipykernel)",
   "language": "python",
   "name": "python3"
  },
  "language_info": {
   "codemirror_mode": {
    "name": "ipython",
    "version": 3
   },
   "file_extension": ".py",
   "mimetype": "text/x-python",
   "name": "python",
   "nbconvert_exporter": "python",
   "pygments_lexer": "ipython3",
   "version": "3.10.6"
  },
  "colab": {
   "provenance": []
  }
 },
 "nbformat": 4,
 "nbformat_minor": 5
}
