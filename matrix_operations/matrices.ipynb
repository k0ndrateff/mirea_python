{
 "cells": [
  {
   "cell_type": "markdown",
   "id": "68a65167",
   "metadata": {},
   "source": [
    "## Разминка. Работа с матрицами\n",
    "Горчаков А.В., кафедра корпоративных информационных систем, РТУ МИРЭА\n"
   ]
  },
  {
   "cell_type": "code",
   "outputs": [],
   "source": [
    "Matrix = list[list[int]]\n",
    "\n",
    "\n",
    "def print_matrix(mtx: Matrix) -> None:\n",
    "    for row in mtx:\n",
    "        printed_row = ''\n",
    "        for val in row:\n",
    "            printed_row += str(val) + ' '\n",
    "        print(printed_row)"
   ],
   "metadata": {
    "collapsed": false,
    "ExecuteTime": {
     "end_time": "2024-03-15T13:48:30.687896Z",
     "start_time": "2024-03-15T13:48:30.685580Z"
    }
   },
   "id": "1f08ddf2ee6ed1bb",
   "execution_count": 4
  },
  {
   "cell_type": "markdown",
   "id": "69154a4d",
   "metadata": {},
   "source": [
    "1. Реализовать функцию, вычисляющую сумму матриц:\n",
    "\n",
    "$\n",
    "\\begin{align}\n",
    "\\mathrm{add}(\\mathbf{A}, \\mathbf{B}) = \\mathbf{A} + \\mathbf{B},\n",
    "\\end{align}\n",
    "$\n",
    "\n",
    "вычислить значения функции при:\n",
    "\n",
    "$\n",
    "\\mathbf{A} = \\left(\n",
    "\\begin{matrix}\n",
    "    0 & 2 \\\\\n",
    "    3 & 0\n",
    "\\end{matrix}\n",
    "\\right),\n",
    "\\mathbf{B} = \\left(\n",
    "\\begin{matrix}\n",
    "    1 & 4 \\\\\n",
    "    2 & 0\n",
    "\\end{matrix}\n",
    "\\right)\n",
    "$. Код должен соответствовать PEP8."
   ]
  },
  {
   "cell_type": "code",
   "execution_count": 5,
   "id": "9ae89c88",
   "metadata": {
    "ExecuteTime": {
     "end_time": "2024-03-15T13:48:30.714089Z",
     "start_time": "2024-03-15T13:48:30.710969Z"
    }
   },
   "outputs": [
    {
     "name": "stdout",
     "output_type": "stream",
     "text": [
      "1 6 \n",
      "5 0 \n"
     ]
    }
   ],
   "source": [
    "def add(a: Matrix, b: Matrix) -> Matrix:\n",
    "    if len(a) != len(b):\n",
    "        raise ValueError(\"Matrices should be equal-sized\")\n",
    "    \n",
    "    result = []\n",
    "    \n",
    "    for i in range(len(a)):\n",
    "        if len(a[i]) != len(b[i]):\n",
    "            raise ValueError(\"Matrices should be equal-sized\")\n",
    "        \n",
    "        row = []\n",
    "        \n",
    "        for j in range(len(a[i])):\n",
    "            row.append(a[i][j] + b[i][j])\n",
    "        result.append(row)\n",
    "    \n",
    "    return result\n",
    "\n",
    "\n",
    "print_matrix(add([[0, 2], [3, 0]], [[1, 4], [2, 0]]))"
   ]
  },
  {
   "cell_type": "markdown",
   "id": "71c4a4f5",
   "metadata": {},
   "source": [
    "2. Реализовать функцию, вычисляющую поэлементное произведение матриц (произведение Адамара):\n",
    "\n",
    "$\n",
    "\\begin{align}\n",
    "\\mathrm{multiply}(\\mathbf{A}, \\mathbf{B}) = \\mathbf{A} \\odot \\mathbf{B},\n",
    "\\end{align}\n",
    "$\n",
    "\n",
    "вычислить значения функции при:\n",
    "\n",
    "$\n",
    "\\mathbf{A} = \\left(\n",
    "\\begin{matrix}\n",
    "    0 & 2 \\\\\n",
    "    3 & 0\n",
    "\\end{matrix}\n",
    "\\right),\n",
    "\\mathbf{B} = \\left(\n",
    "\\begin{matrix}\n",
    "    1 & 4 \\\\\n",
    "    2 & 0\n",
    "\\end{matrix}\n",
    "\\right)\n",
    "$. Код должен соответствовать PEP8."
   ]
  },
  {
   "cell_type": "code",
   "execution_count": 7,
   "id": "337533e1",
   "metadata": {
    "ExecuteTime": {
     "end_time": "2024-03-15T13:51:08.741905Z",
     "start_time": "2024-03-15T13:51:08.737621Z"
    }
   },
   "outputs": [
    {
     "name": "stdout",
     "output_type": "stream",
     "text": [
      "0 8 \n",
      "6 0 \n"
     ]
    }
   ],
   "source": [
    "def multiply(a: Matrix, b: Matrix) -> Matrix:\n",
    "    if len(a) != len(b):\n",
    "        raise ValueError(\"Matrices should be equal-sized\")\n",
    "    \n",
    "    result = []\n",
    "    \n",
    "    for i in range(len(a)):\n",
    "        if len(a[i]) != len(b[i]):\n",
    "            raise ValueError(\"Matrices should be equal-sized\")\n",
    "        \n",
    "        row = []\n",
    "        \n",
    "        for j in range(len(a[i])):\n",
    "            row.append(a[i][j] * b[i][j])\n",
    "        result.append(row)\n",
    "    \n",
    "    return result\n",
    "\n",
    "print_matrix(multiply([[0, 2], [3, 0]], [[1, 4], [2, 0]]))"
   ]
  },
  {
   "cell_type": "markdown",
   "id": "a5075338",
   "metadata": {},
   "source": [
    "3. Реализовать функцию, вычисляющую произведение матриц:\n",
    "\n",
    "$\n",
    "\\begin{align}\n",
    "\\mathrm{dot}(\\mathbf{A}, \\mathbf{B}) = \\mathbf{A} \\mathbf{B},\n",
    "\\end{align}\n",
    "$\n",
    "\n",
    "вычислить значения функции при:\n",
    "\n",
    "$\n",
    "\\mathbf{A} = \\left(\n",
    "\\begin{matrix}\n",
    "    1 & 2 \\\\\n",
    "    3 & 4 \\\\\n",
    "    5 & 6\n",
    "\\end{matrix}\n",
    "\\right),\n",
    "\\mathbf{B} = \\left(\n",
    "\\begin{matrix}\n",
    "    1 & 2 & 3 \\\\\n",
    "    4 & 5 & 6\n",
    "\\end{matrix}\n",
    "\\right)\n",
    "$. Код должен соответствовать PEP8.\n",
    "\n",
    "Элемент матрицы $\\mathbf{C}=\\mathrm{dot}(\\mathbf{A}, \\mathbf{B})$ с индексами $ij$ вычисляют согласно:\n",
    "\n",
    "$\n",
    "{\\displaystyle c_{ij}=a_{i1}b_{1j}+a_{i2}b_{2j}+\\cdots +a_{in}b_{nj}=\\sum _{k=1}^{n}a_{ik}b_{kj}.}\n",
    "$"
   ]
  },
  {
   "cell_type": "code",
   "execution_count": 5,
   "id": "fe1c1f9a",
   "metadata": {
    "ExecuteTime": {
     "end_time": "2024-03-15T13:48:30.722148Z",
     "start_time": "2024-03-15T13:48:30.720659Z"
    }
   },
   "outputs": [],
   "source": []
  },
  {
   "cell_type": "markdown",
   "id": "e899d8fc",
   "metadata": {},
   "source": [
    "4. Реализовать функцию, транспонирующую матрицу:\n",
    "\n",
    "$\n",
    "\\begin{align}\n",
    "\\mathrm{transpose}(\\mathbf{A}) = \\mathbf{A}^T,\n",
    "\\end{align}\n",
    "$ вычислить значения функции при:\n",
    "\n",
    "$\n",
    "\\mathbf{A} = \\left(\n",
    "\\begin{matrix}\n",
    "    0 & 2 & 1 \\\\\n",
    "    1 & 0 & 3 \\\\\n",
    "    0 & 1 & 1\n",
    "\\end{matrix}\n",
    "\\right)\n",
    "$.\n",
    "\n",
    "Элемент матрицы $\\mathbf{C}=\\mathrm{transpose}(\\mathbf{A})$ с индексами $ij$ вычисляют согласно: $\n",
    "{\\displaystyle c_{ij}=a_{ji}}.\n",
    "$"
   ]
  },
  {
   "cell_type": "code",
   "execution_count": 5,
   "id": "7d6edecc",
   "metadata": {
    "ExecuteTime": {
     "end_time": "2024-03-15T13:48:30.724420Z",
     "start_time": "2024-03-15T13:48:30.722910Z"
    }
   },
   "outputs": [],
   "source": []
  },
  {
   "cell_type": "markdown",
   "id": "47d34eb4",
   "metadata": {},
   "source": [
    "5. Вычисление *дополнительного минора* для элемента с индексами $i$ и $j$ осущеставляется исключением из матрицы $i$-й строки и $j$-го столбца и нахождением определителя полученной матрицы. Реализовать функцию $\\mathrm{submatrix}(\\mathbf{A}, i, j)$, исключающую из матрицы $i$-ю строку и $j$-й столбец, и возвращающую полученную матрицу. Вычислить результат для:\n",
    "\n",
    "$\n",
    "\\mathbf{A} = \\left(\n",
    "\\begin{matrix}\n",
    "    0 & 2 & 1 \\\\\n",
    "    1 & 4 & 3 \\\\\n",
    "    2 & 1 & 1\n",
    "\\end{matrix}\n",
    "\\right)\n",
    "$."
   ]
  },
  {
   "cell_type": "code",
   "execution_count": 5,
   "id": "34d2e238",
   "metadata": {
    "ExecuteTime": {
     "end_time": "2024-03-15T13:48:30.727746Z",
     "start_time": "2024-03-15T13:48:30.726263Z"
    }
   },
   "outputs": [],
   "source": []
  },
  {
   "cell_type": "markdown",
   "id": "03b5b146",
   "metadata": {},
   "source": [
    "6. Реализовать функцию, вычисляющую определитель матрицы 2x2:\n",
    "\n",
    "$\\mathrm{smalldet} (\\mathbf{A}) = a_{0, 0} a_{1, 1} - a_{0, 1} a_{1, 0}$.\n",
    "\n",
    "Вычислить определитель матрицы:\n",
    "\n",
    "$\n",
    "\\mathbf{A} = \\left(\n",
    "\\begin{matrix}\n",
    "    4 & 3 \\\\\n",
    "    1 & 1\n",
    "\\end{matrix}\n",
    "\\right)\n",
    "$."
   ]
  },
  {
   "cell_type": "code",
   "execution_count": 5,
   "id": "3e6208fa",
   "metadata": {
    "ExecuteTime": {
     "end_time": "2024-03-15T13:48:30.730516Z",
     "start_time": "2024-03-15T13:48:30.728814Z"
    }
   },
   "outputs": [],
   "source": []
  },
  {
   "cell_type": "markdown",
   "id": "1307ed60",
   "metadata": {},
   "source": [
    "7. Используя функции `smalldet(A)` и `submatrix(A, i, j)`, реализовать рекуррентную функцию, вычисляющую определитель матрицы размера $n \\times n$. Вычислить определитель для матрицы $3 \\times 3$ разложением по $i$-й строке, сравнить результат при $i \\in \\{0, 1, 2\\}$. Вычислить определитель для матрицы $4 \\times 4$ разложением по $i$-й строке, сравнить результат при $i \\in \\{0, 1, 2\\}$:\n",
    "\n",
    "$\n",
    "{\\displaystyle \\mathrm{det}(\\mathbf{A})=\\sum _{j=0}^{n-1}(-1)^{i+j}a_{ij} \\mathrm{det}\\left( \\mathrm{submatrix}(\\mathbf{A}, i, j) \\right)},\n",
    "$\n",
    "\n",
    "$\n",
    "\\mathbf{A} = \\left(\n",
    "\\begin{matrix}\n",
    "    0 & 2 & 1 & 4 \\\\\n",
    "    1 & 0 & 3 & 2 \\\\\n",
    "    0 & 1 & 4 & 0 \\\\\n",
    "    1 & 2 & 1 & 1\n",
    "\\end{matrix}\n",
    "\\right)\n",
    "$."
   ]
  },
  {
   "cell_type": "code",
   "execution_count": 5,
   "id": "c15e2d74",
   "metadata": {
    "ExecuteTime": {
     "end_time": "2024-03-15T13:48:30.733028Z",
     "start_time": "2024-03-15T13:48:30.731654Z"
    }
   },
   "outputs": [],
   "source": []
  },
  {
   "cell_type": "markdown",
   "id": "cce3aabf",
   "metadata": {},
   "source": [
    "8. Реализовать функцию, вычисляющую дополнительный минор элемента с индексами $i$ и $j$ по формуле:\n",
    "\n",
    "$\n",
    "\\mathrm{minor}(\\mathbf{A}, i, j) = det(submatrix(\\mathbf{A}, i, j))\n",
    "$, вычислить дополнительный минор элемента $a_{0,0}$ матрицы $\\mathbf{A}$ из п. 7."
   ]
  },
  {
   "cell_type": "code",
   "execution_count": 5,
   "id": "e0e93451",
   "metadata": {
    "ExecuteTime": {
     "end_time": "2024-03-15T13:48:30.736475Z",
     "start_time": "2024-03-15T13:48:30.734794Z"
    }
   },
   "outputs": [],
   "source": []
  },
  {
   "cell_type": "markdown",
   "id": "b9c82d43",
   "metadata": {},
   "source": [
    "9. Реализовать функцию, вычисляющую алгебраическое дополнение элемента с индексами $i$ и $j$:\n",
    "\n",
    "$\n",
    "\\mathrm{alg}(\\mathbf{A}, i, j) = (-1)^{i+j}minor(\\mathbf{A}, i, j)\n",
    "$, вычислить алгебраическое дополнение элемента $a_{0,0}$ матрицы $\\mathbf{A}$ из п. 7."
   ]
  },
  {
   "cell_type": "code",
   "execution_count": 5,
   "id": "131e569a",
   "metadata": {
    "ExecuteTime": {
     "end_time": "2024-03-15T13:48:30.738654Z",
     "start_time": "2024-03-15T13:48:30.737254Z"
    }
   },
   "outputs": [],
   "source": []
  },
  {
   "cell_type": "markdown",
   "id": "e29de387",
   "metadata": {},
   "source": [
    "10. Реализовать функцию $\\mathrm{algmatrix}(\\mathbf{A})$, вычисляющую матрицу алгебраических дополнений для заданной матрицы. В матрице $\\mathbf{A}_m$ алгебраических дополнений каждый элемент с индексами $i$ и $j$ заменяется результатом применения функции $\\mathrm{alg}$ к матрице $\\mathbf{A}$. Вычислить обратную матрицу к $\\mathbf{A}$ из п. 7."
   ]
  },
  {
   "cell_type": "code",
   "execution_count": 5,
   "id": "8a99103b",
   "metadata": {
    "ExecuteTime": {
     "end_time": "2024-03-15T13:48:30.740896Z",
     "start_time": "2024-03-15T13:48:30.739347Z"
    }
   },
   "outputs": [],
   "source": []
  },
  {
   "cell_type": "markdown",
   "id": "5fa413fc",
   "metadata": {},
   "source": [
    "11. Реализовать функцию, вычисляющую обратную матрицу для $\\mathbf{A}$ из п. 7 по следующей формуле:\n",
    "\n",
    "$\n",
    "\\mathrm{inv}(\\mathbf{A}) = \\mathbf{A}^{-1} = \\dfrac{\\mathrm{algmatrix}(\\mathbf{A})^T}{\\mathrm{det}(\\mathbf{A})}\n",
    "$."
   ]
  },
  {
   "cell_type": "code",
   "execution_count": 5,
   "id": "4b8cd83e",
   "metadata": {
    "ExecuteTime": {
     "end_time": "2024-03-15T13:48:30.743119Z",
     "start_time": "2024-03-15T13:48:30.741816Z"
    }
   },
   "outputs": [],
   "source": []
  },
  {
   "cell_type": "markdown",
   "id": "8ffe2ead",
   "metadata": {},
   "source": [
    "12. Псевдообращение Мура-Пенроуза применяется в [машинах экстремального обучения](https://link.springer.com/article/10.1007/s11042-021-11007-7) - современных искусственных нейронных сетях, которые не требуется обучать с помощью классических градиентных методов, что существенно ускоряет процесс обучения. Предлагается реализовать обращение Мура-Пенроуза в виде функции `moore_penrose` для матрицы $\\mathbf{A}$ по формуле:\n",
    "\n",
    "$\n",
    "\\mathbf{H}^† = (\\mathbf{H}^T \\mathbf{H})^{-1}\\mathbf{H}^T\n",
    "$."
   ]
  },
  {
   "cell_type": "code",
   "execution_count": 5,
   "id": "33f7f884",
   "metadata": {
    "ExecuteTime": {
     "end_time": "2024-03-15T13:48:30.758547Z",
     "start_time": "2024-03-15T13:48:30.756860Z"
    }
   },
   "outputs": [],
   "source": []
  }
 ],
 "metadata": {
  "kernelspec": {
   "display_name": "Python 3 (ipykernel)",
   "language": "python",
   "name": "python3"
  },
  "language_info": {
   "codemirror_mode": {
    "name": "ipython",
    "version": 3
   },
   "file_extension": ".py",
   "mimetype": "text/x-python",
   "name": "python",
   "nbconvert_exporter": "python",
   "pygments_lexer": "ipython3",
   "version": "3.10.5"
  }
 },
 "nbformat": 4,
 "nbformat_minor": 5
}
